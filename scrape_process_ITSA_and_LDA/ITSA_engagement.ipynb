{
 "cells": [
  {
   "cell_type": "markdown",
   "source": [
    "# Let's start out ITSA by importing libraries as usual\n",
    "## Pandas for processing data\n",
    "## What do we use for ITSA?"
   ],
   "metadata": {
    "collapsed": false,
    "pycharm": {
     "name": "#%% md\n"
    }
   }
  },
  {
   "cell_type": "code",
   "execution_count": 1,
   "outputs": [],
   "source": [
    "import numpy as np\n",
    "import pandas as pd"
   ],
   "metadata": {
    "collapsed": false,
    "pycharm": {
     "name": "#%%\n"
    }
   }
  },
  {
   "cell_type": "markdown",
   "source": [
    "## Let's read in our dataframe, and if look at the output\n",
    "### For this analysis we just need the date, sentiment_analysis, and language so we will drop all other columns\n",
    "### Some of the tweets failed sentiment analysis and so we drop rows where sentiment_analysis column = 'e', as error from sentiment analysis notebook got save as e for some reason"
   ],
   "metadata": {
    "collapsed": false,
    "pycharm": {
     "name": "#%% md\n"
    }
   }
  },
  {
   "cell_type": "code",
   "execution_count": 2,
   "outputs": [
    {
     "name": "stderr",
     "output_type": "stream",
     "text": [
      "/tmp/ipykernel_54656/3434215136.py:2: DtypeWarning: Columns (3,7,13) have mixed types. Specify dtype option on import or set low_memory=False.\n",
      "  df = pd.read_csv('data/filtered_df.csv', usecols=cols)\n"
     ]
    },
    {
     "data": {
      "text/plain": "                              date  \\\n0        2022-09-16 21:43:23+00:00   \n1        2022-09-16 21:41:11+00:00   \n2        2022-09-16 21:39:28+00:00   \n3        2022-09-16 21:34:32+00:00   \n4        2022-09-16 21:31:36+00:00   \n...                            ...   \n1648279  2020-01-01 00:37:27+00:00   \n1648280  2020-01-01 00:30:00+00:00   \n1648281  2020-01-01 00:15:00+00:00   \n1648282  2020-01-01 00:10:02+00:00   \n1648283  2020-01-01 00:00:12+00:00   \n\n                                                      user lang  \n0        {'_type': 'snscrape.modules.twitter.User', 'us...   en  \n1        {'_type': 'snscrape.modules.twitter.User', 'us...   en  \n2        {'_type': 'snscrape.modules.twitter.User', 'us...   en  \n3        {'_type': 'snscrape.modules.twitter.User', 'us...   en  \n4        {'_type': 'snscrape.modules.twitter.User', 'us...   en  \n...                                                    ...  ...  \n1648279  {'_type': 'snscrape.modules.twitter.User', 'us...   en  \n1648280  {'_type': 'snscrape.modules.twitter.User', 'us...   en  \n1648281  {'_type': 'snscrape.modules.twitter.User', 'us...   en  \n1648282  {'_type': 'snscrape.modules.twitter.User', 'us...   en  \n1648283  {'_type': 'snscrape.modules.twitter.User', 'us...   en  \n\n[1648284 rows x 3 columns]",
      "text/html": "<div>\n<style scoped>\n    .dataframe tbody tr th:only-of-type {\n        vertical-align: middle;\n    }\n\n    .dataframe tbody tr th {\n        vertical-align: top;\n    }\n\n    .dataframe thead th {\n        text-align: right;\n    }\n</style>\n<table border=\"1\" class=\"dataframe\">\n  <thead>\n    <tr style=\"text-align: right;\">\n      <th></th>\n      <th>date</th>\n      <th>user</th>\n      <th>lang</th>\n    </tr>\n  </thead>\n  <tbody>\n    <tr>\n      <th>0</th>\n      <td>2022-09-16 21:43:23+00:00</td>\n      <td>{'_type': 'snscrape.modules.twitter.User', 'us...</td>\n      <td>en</td>\n    </tr>\n    <tr>\n      <th>1</th>\n      <td>2022-09-16 21:41:11+00:00</td>\n      <td>{'_type': 'snscrape.modules.twitter.User', 'us...</td>\n      <td>en</td>\n    </tr>\n    <tr>\n      <th>2</th>\n      <td>2022-09-16 21:39:28+00:00</td>\n      <td>{'_type': 'snscrape.modules.twitter.User', 'us...</td>\n      <td>en</td>\n    </tr>\n    <tr>\n      <th>3</th>\n      <td>2022-09-16 21:34:32+00:00</td>\n      <td>{'_type': 'snscrape.modules.twitter.User', 'us...</td>\n      <td>en</td>\n    </tr>\n    <tr>\n      <th>4</th>\n      <td>2022-09-16 21:31:36+00:00</td>\n      <td>{'_type': 'snscrape.modules.twitter.User', 'us...</td>\n      <td>en</td>\n    </tr>\n    <tr>\n      <th>...</th>\n      <td>...</td>\n      <td>...</td>\n      <td>...</td>\n    </tr>\n    <tr>\n      <th>1648279</th>\n      <td>2020-01-01 00:37:27+00:00</td>\n      <td>{'_type': 'snscrape.modules.twitter.User', 'us...</td>\n      <td>en</td>\n    </tr>\n    <tr>\n      <th>1648280</th>\n      <td>2020-01-01 00:30:00+00:00</td>\n      <td>{'_type': 'snscrape.modules.twitter.User', 'us...</td>\n      <td>en</td>\n    </tr>\n    <tr>\n      <th>1648281</th>\n      <td>2020-01-01 00:15:00+00:00</td>\n      <td>{'_type': 'snscrape.modules.twitter.User', 'us...</td>\n      <td>en</td>\n    </tr>\n    <tr>\n      <th>1648282</th>\n      <td>2020-01-01 00:10:02+00:00</td>\n      <td>{'_type': 'snscrape.modules.twitter.User', 'us...</td>\n      <td>en</td>\n    </tr>\n    <tr>\n      <th>1648283</th>\n      <td>2020-01-01 00:00:12+00:00</td>\n      <td>{'_type': 'snscrape.modules.twitter.User', 'us...</td>\n      <td>en</td>\n    </tr>\n  </tbody>\n</table>\n<p>1648284 rows × 3 columns</p>\n</div>"
     },
     "execution_count": 2,
     "metadata": {},
     "output_type": "execute_result"
    }
   ],
   "source": [
    "cols = ['date', 'lang', 'user']\n",
    "df = pd.read_csv('data/filtered_df.csv', usecols=cols)\n",
    "df"
   ],
   "metadata": {
    "collapsed": false,
    "pycharm": {
     "name": "#%%\n"
    }
   }
  },
  {
   "cell_type": "code",
   "execution_count": 3,
   "outputs": [
    {
     "data": {
      "text/plain": "                              date           user lang\n0        2022-09-16 21:43:23+00:00      ApollyonI   en\n1        2022-09-16 21:41:11+00:00      jimmywal3   en\n2        2022-09-16 21:39:28+00:00  HappyNightOwl   en\n3        2022-09-16 21:34:32+00:00     David_Mohl   en\n4        2022-09-16 21:31:36+00:00     Tweazel504   en\n...                            ...            ...  ...\n1648279  2020-01-01 00:37:27+00:00     blt_thorne   en\n1648280  2020-01-01 00:30:00+00:00          FOX59   en\n1648281  2020-01-01 00:15:00+00:00        mynbc15   en\n1648282  2020-01-01 00:10:02+00:00    ElleBee1935   en\n1648283  2020-01-01 00:00:12+00:00    HalfmannJon   en\n\n[1648284 rows x 3 columns]",
      "text/html": "<div>\n<style scoped>\n    .dataframe tbody tr th:only-of-type {\n        vertical-align: middle;\n    }\n\n    .dataframe tbody tr th {\n        vertical-align: top;\n    }\n\n    .dataframe thead th {\n        text-align: right;\n    }\n</style>\n<table border=\"1\" class=\"dataframe\">\n  <thead>\n    <tr style=\"text-align: right;\">\n      <th></th>\n      <th>date</th>\n      <th>user</th>\n      <th>lang</th>\n    </tr>\n  </thead>\n  <tbody>\n    <tr>\n      <th>0</th>\n      <td>2022-09-16 21:43:23+00:00</td>\n      <td>ApollyonI</td>\n      <td>en</td>\n    </tr>\n    <tr>\n      <th>1</th>\n      <td>2022-09-16 21:41:11+00:00</td>\n      <td>jimmywal3</td>\n      <td>en</td>\n    </tr>\n    <tr>\n      <th>2</th>\n      <td>2022-09-16 21:39:28+00:00</td>\n      <td>HappyNightOwl</td>\n      <td>en</td>\n    </tr>\n    <tr>\n      <th>3</th>\n      <td>2022-09-16 21:34:32+00:00</td>\n      <td>David_Mohl</td>\n      <td>en</td>\n    </tr>\n    <tr>\n      <th>4</th>\n      <td>2022-09-16 21:31:36+00:00</td>\n      <td>Tweazel504</td>\n      <td>en</td>\n    </tr>\n    <tr>\n      <th>...</th>\n      <td>...</td>\n      <td>...</td>\n      <td>...</td>\n    </tr>\n    <tr>\n      <th>1648279</th>\n      <td>2020-01-01 00:37:27+00:00</td>\n      <td>blt_thorne</td>\n      <td>en</td>\n    </tr>\n    <tr>\n      <th>1648280</th>\n      <td>2020-01-01 00:30:00+00:00</td>\n      <td>FOX59</td>\n      <td>en</td>\n    </tr>\n    <tr>\n      <th>1648281</th>\n      <td>2020-01-01 00:15:00+00:00</td>\n      <td>mynbc15</td>\n      <td>en</td>\n    </tr>\n    <tr>\n      <th>1648282</th>\n      <td>2020-01-01 00:10:02+00:00</td>\n      <td>ElleBee1935</td>\n      <td>en</td>\n    </tr>\n    <tr>\n      <th>1648283</th>\n      <td>2020-01-01 00:00:12+00:00</td>\n      <td>HalfmannJon</td>\n      <td>en</td>\n    </tr>\n  </tbody>\n</table>\n<p>1648284 rows × 3 columns</p>\n</div>"
     },
     "execution_count": 3,
     "metadata": {},
     "output_type": "execute_result"
    }
   ],
   "source": [
    "def convert_user(element):\n",
    "    try:\n",
    "        dict_elem = eval(element)\n",
    "        return dict_elem['username']\n",
    "    except:\n",
    "        return \"e\"\n",
    "\n",
    "df['user'] = df['user'].apply(lambda x: convert_user(x))\n",
    "df"
   ],
   "metadata": {
    "collapsed": false,
    "pycharm": {
     "name": "#%%\n"
    }
   }
  },
  {
   "cell_type": "code",
   "execution_count": 4,
   "outputs": [
    {
     "data": {
      "text/plain": "                              date           user lang\n0        2022-09-16 21:43:23+00:00      ApollyonI   en\n1        2022-09-16 21:41:11+00:00      jimmywal3   en\n2        2022-09-16 21:39:28+00:00  HappyNightOwl   en\n3        2022-09-16 21:34:32+00:00     David_Mohl   en\n4        2022-09-16 21:31:36+00:00     Tweazel504   en\n...                            ...            ...  ...\n1648279  2020-01-01 00:37:27+00:00     blt_thorne   en\n1648280  2020-01-01 00:30:00+00:00          FOX59   en\n1648281  2020-01-01 00:15:00+00:00        mynbc15   en\n1648282  2020-01-01 00:10:02+00:00    ElleBee1935   en\n1648283  2020-01-01 00:00:12+00:00    HalfmannJon   en\n\n[1375479 rows x 3 columns]",
      "text/html": "<div>\n<style scoped>\n    .dataframe tbody tr th:only-of-type {\n        vertical-align: middle;\n    }\n\n    .dataframe tbody tr th {\n        vertical-align: top;\n    }\n\n    .dataframe thead th {\n        text-align: right;\n    }\n</style>\n<table border=\"1\" class=\"dataframe\">\n  <thead>\n    <tr style=\"text-align: right;\">\n      <th></th>\n      <th>date</th>\n      <th>user</th>\n      <th>lang</th>\n    </tr>\n  </thead>\n  <tbody>\n    <tr>\n      <th>0</th>\n      <td>2022-09-16 21:43:23+00:00</td>\n      <td>ApollyonI</td>\n      <td>en</td>\n    </tr>\n    <tr>\n      <th>1</th>\n      <td>2022-09-16 21:41:11+00:00</td>\n      <td>jimmywal3</td>\n      <td>en</td>\n    </tr>\n    <tr>\n      <th>2</th>\n      <td>2022-09-16 21:39:28+00:00</td>\n      <td>HappyNightOwl</td>\n      <td>en</td>\n    </tr>\n    <tr>\n      <th>3</th>\n      <td>2022-09-16 21:34:32+00:00</td>\n      <td>David_Mohl</td>\n      <td>en</td>\n    </tr>\n    <tr>\n      <th>4</th>\n      <td>2022-09-16 21:31:36+00:00</td>\n      <td>Tweazel504</td>\n      <td>en</td>\n    </tr>\n    <tr>\n      <th>...</th>\n      <td>...</td>\n      <td>...</td>\n      <td>...</td>\n    </tr>\n    <tr>\n      <th>1648279</th>\n      <td>2020-01-01 00:37:27+00:00</td>\n      <td>blt_thorne</td>\n      <td>en</td>\n    </tr>\n    <tr>\n      <th>1648280</th>\n      <td>2020-01-01 00:30:00+00:00</td>\n      <td>FOX59</td>\n      <td>en</td>\n    </tr>\n    <tr>\n      <th>1648281</th>\n      <td>2020-01-01 00:15:00+00:00</td>\n      <td>mynbc15</td>\n      <td>en</td>\n    </tr>\n    <tr>\n      <th>1648282</th>\n      <td>2020-01-01 00:10:02+00:00</td>\n      <td>ElleBee1935</td>\n      <td>en</td>\n    </tr>\n    <tr>\n      <th>1648283</th>\n      <td>2020-01-01 00:00:12+00:00</td>\n      <td>HalfmannJon</td>\n      <td>en</td>\n    </tr>\n  </tbody>\n</table>\n<p>1375479 rows × 3 columns</p>\n</div>"
     },
     "execution_count": 4,
     "metadata": {},
     "output_type": "execute_result"
    }
   ],
   "source": [
    "df = df[df['user'] != 'e']\n",
    "df"
   ],
   "metadata": {
    "collapsed": false,
    "pycharm": {
     "name": "#%%\n"
    }
   }
  },
  {
   "cell_type": "markdown",
   "source": [
    "### If you are familiar with ITSA (interrupted time series analysis) you know it works on numeric data, usually continuous\n",
    "### So to do ITSA, we will need to essentially one-hot (or categorical -> numerical map) our sentiment labels NEG-> 0, NEU -> 1, POS -> 2"
   ],
   "metadata": {
    "collapsed": false,
    "pycharm": {
     "name": "#%% md\n"
    }
   }
  },
  {
   "cell_type": "markdown",
   "source": [
    "### We should probably drop all languages that are not english for this analysis"
   ],
   "metadata": {
    "collapsed": false,
    "pycharm": {
     "name": "#%% md\n"
    }
   }
  },
  {
   "cell_type": "code",
   "execution_count": 5,
   "outputs": [
    {
     "data": {
      "text/plain": "                              date           user lang\n0        2022-09-16 21:43:23+00:00      ApollyonI   en\n1        2022-09-16 21:41:11+00:00      jimmywal3   en\n2        2022-09-16 21:39:28+00:00  HappyNightOwl   en\n3        2022-09-16 21:34:32+00:00     David_Mohl   en\n4        2022-09-16 21:31:36+00:00     Tweazel504   en\n...                            ...            ...  ...\n1648279  2020-01-01 00:37:27+00:00     blt_thorne   en\n1648280  2020-01-01 00:30:00+00:00          FOX59   en\n1648281  2020-01-01 00:15:00+00:00        mynbc15   en\n1648282  2020-01-01 00:10:02+00:00    ElleBee1935   en\n1648283  2020-01-01 00:00:12+00:00    HalfmannJon   en\n\n[1369635 rows x 3 columns]",
      "text/html": "<div>\n<style scoped>\n    .dataframe tbody tr th:only-of-type {\n        vertical-align: middle;\n    }\n\n    .dataframe tbody tr th {\n        vertical-align: top;\n    }\n\n    .dataframe thead th {\n        text-align: right;\n    }\n</style>\n<table border=\"1\" class=\"dataframe\">\n  <thead>\n    <tr style=\"text-align: right;\">\n      <th></th>\n      <th>date</th>\n      <th>user</th>\n      <th>lang</th>\n    </tr>\n  </thead>\n  <tbody>\n    <tr>\n      <th>0</th>\n      <td>2022-09-16 21:43:23+00:00</td>\n      <td>ApollyonI</td>\n      <td>en</td>\n    </tr>\n    <tr>\n      <th>1</th>\n      <td>2022-09-16 21:41:11+00:00</td>\n      <td>jimmywal3</td>\n      <td>en</td>\n    </tr>\n    <tr>\n      <th>2</th>\n      <td>2022-09-16 21:39:28+00:00</td>\n      <td>HappyNightOwl</td>\n      <td>en</td>\n    </tr>\n    <tr>\n      <th>3</th>\n      <td>2022-09-16 21:34:32+00:00</td>\n      <td>David_Mohl</td>\n      <td>en</td>\n    </tr>\n    <tr>\n      <th>4</th>\n      <td>2022-09-16 21:31:36+00:00</td>\n      <td>Tweazel504</td>\n      <td>en</td>\n    </tr>\n    <tr>\n      <th>...</th>\n      <td>...</td>\n      <td>...</td>\n      <td>...</td>\n    </tr>\n    <tr>\n      <th>1648279</th>\n      <td>2020-01-01 00:37:27+00:00</td>\n      <td>blt_thorne</td>\n      <td>en</td>\n    </tr>\n    <tr>\n      <th>1648280</th>\n      <td>2020-01-01 00:30:00+00:00</td>\n      <td>FOX59</td>\n      <td>en</td>\n    </tr>\n    <tr>\n      <th>1648281</th>\n      <td>2020-01-01 00:15:00+00:00</td>\n      <td>mynbc15</td>\n      <td>en</td>\n    </tr>\n    <tr>\n      <th>1648282</th>\n      <td>2020-01-01 00:10:02+00:00</td>\n      <td>ElleBee1935</td>\n      <td>en</td>\n    </tr>\n    <tr>\n      <th>1648283</th>\n      <td>2020-01-01 00:00:12+00:00</td>\n      <td>HalfmannJon</td>\n      <td>en</td>\n    </tr>\n  </tbody>\n</table>\n<p>1369635 rows × 3 columns</p>\n</div>"
     },
     "execution_count": 5,
     "metadata": {},
     "output_type": "execute_result"
    }
   ],
   "source": [
    "df = df[df.lang == 'en']\n",
    "df"
   ],
   "metadata": {
    "collapsed": false,
    "pycharm": {
     "name": "#%%\n"
    }
   }
  },
  {
   "cell_type": "markdown",
   "source": [
    "### Let's organize the data by date time as an index, group by Month and plot the trend of our now one-hot score sentiment as a month average = y, over months = x"
   ],
   "metadata": {
    "collapsed": false,
    "pycharm": {
     "name": "#%% md\n"
    }
   }
  },
  {
   "cell_type": "code",
   "execution_count": 6,
   "outputs": [
    {
     "name": "stderr",
     "output_type": "stream",
     "text": [
      "/tmp/ipykernel_54656/2538980034.py:1: SettingWithCopyWarning: \n",
      "A value is trying to be set on a copy of a slice from a DataFrame.\n",
      "Try using .loc[row_indexer,col_indexer] = value instead\n",
      "\n",
      "See the caveats in the documentation: https://pandas.pydata.org/pandas-docs/stable/user_guide/indexing.html#returning-a-view-versus-a-copy\n",
      "  df['date'] = pd.to_datetime(df['date'])\n"
     ]
    },
    {
     "data": {
      "text/plain": "date\n2019-12-31 00:00:00+00:00     3520\n2020-01-15 00:00:00+00:00     6804\n2020-01-31 00:00:00+00:00     5116\n2020-02-15 00:00:00+00:00     4882\n2020-02-29 00:00:00+00:00     7590\n                             ...  \n2022-07-15 00:00:00+00:00    62364\n2022-07-31 00:00:00+00:00    38867\n2022-08-15 00:00:00+00:00    41064\n2022-08-31 00:00:00+00:00    46137\n2022-09-15 00:00:00+00:00     7909\nFreq: SM-15, Length: 66, dtype: int64"
     },
     "execution_count": 6,
     "metadata": {},
     "output_type": "execute_result"
    }
   ],
   "source": [
    "df['date'] = pd.to_datetime(df['date'])\n",
    "df.index = pd.to_datetime(df['date'],format='%m/%d/%y %I:%M%p')\n",
    "#df.drop('lang', axis=1, inplace=True)\n",
    "df = df.groupby(pd.Grouper(freq='SM')).apply(lambda x: x.user.nunique())\n",
    "df"
   ],
   "metadata": {
    "collapsed": false,
    "pycharm": {
     "name": "#%%\n"
    }
   }
  },
  {
   "cell_type": "code",
   "execution_count": 7,
   "outputs": [
    {
     "data": {
      "text/plain": "<Figure size 640x480 with 1 Axes>",
      "image/png": "[encoded data removed]"
     },
     "metadata": {},
     "output_type": "display_data"
    }
   ],
   "source": [
    "import matplotlib.pyplot as plt\n",
    "fig = df.plot(color = ['g', 'y'])\n",
    "plt.show()"
   ],
   "metadata": {
    "collapsed": false,
    "pycharm": {
     "name": "#%%\n"
    }
   }
  },
  {
   "cell_type": "code",
   "execution_count": 7,
   "outputs": [],
   "source": [],
   "metadata": {
    "collapsed": false,
    "pycharm": {
     "name": "#%%\n"
    }
   }
  }
 ],
 "metadata": {
  "kernelspec": {
   "display_name": "Python 3",
   "language": "python",
   "name": "python3"
  },
  "language_info": {
   "codemirror_mode": {
    "name": "ipython",
    "version": 2
   },
   "file_extension": ".py",
   "mimetype": "text/x-python",
   "name": "python",
   "nbconvert_exporter": "python",
   "pygments_lexer": "ipython2",
   "version": "2.7.6"
  }
 },
 "nbformat": 4,
 "nbformat_minor": 0
}