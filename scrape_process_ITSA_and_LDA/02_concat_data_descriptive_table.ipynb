{
 "cells": [
  {
   "cell_type": "code",
   "execution_count": 1,
   "outputs": [],
   "source": [
    "import os\n",
    "import glob\n",
    "\n",
    "import pandas as pd\n",
    "from tqdm.notebook import tqdm, trange\n",
    "\n"
   ],
   "metadata": {
    "collapsed": false,
    "pycharm": {
     "name": "#%%\n"
    }
   }
  },
  {
   "cell_type": "code",
   "execution_count": 2,
   "outputs": [],
   "source": [
    "\n",
    "directory = '/home/karl/PycharmProjects/UCSF_dobbs_roe/data/from_2020_01_01' # must use absolute path\n",
    "\n",
    "file_list = list(glob.glob(os.path.join(directory,'*.*')))"
   ],
   "metadata": {
    "collapsed": false,
    "pycharm": {
     "name": "#%%\n"
    }
   }
  },
  {
   "cell_type": "code",
   "execution_count": 3,
   "outputs": [
    {
     "data": {
      "text/plain": "  0%|          | 0/37 [00:00<?, ?it/s]",
      "application/vnd.jupyter.widget-view+json": {
       "version_major": 2,
       "version_minor": 0,
       "model_id": "1cb391a222884855b01984d3bb5a14f4"
      }
     },
     "metadata": {},
     "output_type": "display_data"
    },
    {
     "name": "stdout",
     "output_type": "stream",
     "text": [
      "Reading json file:  /home/karl/PycharmProjects/UCSF_dobbs_roe/data/from_2020_01_01/dobbs_private.json\n",
      "Reading json file:  /home/karl/PycharmProjects/UCSF_dobbs_roe/data/from_2020_01_01/jackson_phi_wang_magicman_jacksonwangmagicman.json\n",
      "Reading json file:  /home/karl/PycharmProjects/UCSF_dobbs_roe/data/from_2020_01_01/roe_phi.json\n",
      "Reading json file:  /home/karl/PycharmProjects/UCSF_dobbs_roe/data/from_2020_01_01/roe_hipaa.json\n",
      "Reading json file:  /home/karl/PycharmProjects/UCSF_dobbs_roe/data/from_2020_01_01/abortion_private.json\n",
      "Reading json file:  /home/karl/PycharmProjects/UCSF_dobbs_roe/data/from_2020_01_01/wade_share.json\n",
      "Reading json file:  /home/karl/PycharmProjects/UCSF_dobbs_roe/data/from_2020_01_01/roe_wade.json\n",
      "Reading json file:  /home/karl/PycharmProjects/UCSF_dobbs_roe/data/from_2020_01_01/dobbs_disclosure.json\n",
      "Reading json file:  /home/karl/PycharmProjects/UCSF_dobbs_roe/data/from_2020_01_01/abortion_share.json\n",
      "Reading json file:  /home/karl/PycharmProjects/UCSF_dobbs_roe/data/from_2020_01_01/wade_hipaa.json\n",
      "Reading json file:  /home/karl/PycharmProjects/UCSF_dobbs_roe/data/from_2020_01_01/jackson_hipaa_wang_magicman_jacksonwangmagicman.json\n",
      "Reading json file:  /home/karl/PycharmProjects/UCSF_dobbs_roe/data/from_2020_01_01/wade_phi.json\n",
      "Reading json file:  /home/karl/PycharmProjects/UCSF_dobbs_roe/data/from_2020_01_01/roevwade.json\n",
      "Reading json file:  /home/karl/PycharmProjects/UCSF_dobbs_roe/data/from_2020_01_01/jackson_michael_wang_magicman_jacksonwangmagicman.json\n",
      "Reading json file:  /home/karl/PycharmProjects/UCSF_dobbs_roe/data/from_2020_01_01/dobbsvjackson.json\n",
      "Reading json file:  /home/karl/PycharmProjects/UCSF_dobbs_roe/data/from_2020_01_01/abortion_hipaa.json\n",
      "Reading json file:  /home/karl/PycharmProjects/UCSF_dobbs_roe/data/from_2020_01_01/roe_private.json\n",
      "Reading json file:  /home/karl/PycharmProjects/UCSF_dobbs_roe/data/from_2020_01_01/jackson_private_wang_magicman_jacksonwangmagicman.json\n",
      "Reading json file:  /home/karl/PycharmProjects/UCSF_dobbs_roe/data/from_2020_01_01/dobbs_phi.json\n",
      "Reading json file:  /home/karl/PycharmProjects/UCSF_dobbs_roe/data/from_2020_01_01/dobbs.json\n",
      "Reading json file:  /home/karl/PycharmProjects/UCSF_dobbs_roe/data/from_2020_01_01/dobbs_privacy.json\n",
      "Reading json file:  /home/karl/PycharmProjects/UCSF_dobbs_roe/data/from_2020_01_01/wade_private.json\n",
      "Reading json file:  /home/karl/PycharmProjects/UCSF_dobbs_roe/data/from_2020_01_01/dobbs_jackson.json\n",
      "Reading json file:  /home/karl/PycharmProjects/UCSF_dobbs_roe/data/from_2020_01_01/roe_privacy.json\n",
      "Reading json file:  /home/karl/PycharmProjects/UCSF_dobbs_roe/data/from_2020_01_01/abortion_disclosure.json\n",
      "Reading json file:  /home/karl/PycharmProjects/UCSF_dobbs_roe/data/from_2020_01_01/roe.json\n",
      "Reading json file:  /home/karl/PycharmProjects/UCSF_dobbs_roe/data/from_2020_01_01/wade_disclosure.json\n",
      "Reading json file:  /home/karl/PycharmProjects/UCSF_dobbs_roe/data/from_2020_01_01/dobbs_hipaa.json\n",
      "Reading json file:  /home/karl/PycharmProjects/UCSF_dobbs_roe/data/from_2020_01_01/abortion_privacy.json\n",
      "Reading json file:  /home/karl/PycharmProjects/UCSF_dobbs_roe/data/from_2020_01_01/dobbs_share.json\n",
      "Reading json file:  /home/karl/PycharmProjects/UCSF_dobbs_roe/data/from_2020_01_01/wade_privacy.json\n",
      "Reading json file:  /home/karl/PycharmProjects/UCSF_dobbs_roe/data/from_2020_01_01/roe_disclosure.json\n",
      "Reading json file:  /home/karl/PycharmProjects/UCSF_dobbs_roe/data/from_2020_01_01/jackson_disclosure_wang_magicman_jacksonwangmagicman.json\n",
      "Reading json file:  /home/karl/PycharmProjects/UCSF_dobbs_roe/data/from_2020_01_01/abortion_phi.json\n",
      "Reading json file:  /home/karl/PycharmProjects/UCSF_dobbs_roe/data/from_2020_01_01/jackson_share_wang_magicman_jacksonwangmagicman.json\n",
      "Reading json file:  /home/karl/PycharmProjects/UCSF_dobbs_roe/data/from_2020_01_01/jackson_privacy_wang_magicman_jacksonwangmagicman.json\n",
      "Reading json file:  /home/karl/PycharmProjects/UCSF_dobbs_roe/data/from_2020_01_01/roe_share.json\n",
      "total tweets scraped:  12633071\n",
      "saving all scraped tweets to a single csv\n",
      "this may take a while ...\n"
     ]
    }
   ],
   "source": [
    "# Uncomment if this is your first time running the script\n",
    "# concatenate all queries as a dataframe and save as single csv file\n",
    "dfs = [] # an empty list to store the data frames\n",
    "for file in tqdm(file_list):\n",
    "\n",
    "    print(\"Reading json file: \",file)\n",
    "\n",
    "    try:\n",
    "        data = pd.read_json(open(file, 'r', encoding='utf-8'), lines = True) # read data frame from json file\n",
    "        dfs.append(data) # append the data frame to the list\n",
    "\n",
    "    except ValueError:\n",
    "\n",
    "        print(\"\\n***Error reading json file***: \", file, \"\\n\")\n",
    "\n",
    "all_df = pd.concat(dfs, ignore_index=True) # concatenate all the data frames in the list.\n",
    "print(\"total tweets scraped: \", len(all_df))\n",
    "\n",
    "print('saving all scraped tweets to a single csv')\n",
    "print('this may take a while ...')\n",
    "all_df.to_csv('/home/karl/PycharmProjects/UCSF_dobbs_roe/data/processed_data/all_scraped_df_12_million_2020_01_01_v4')\n",
    "\n",
    "\n"
   ],
   "metadata": {
    "collapsed": false,
    "pycharm": {
     "name": "#%%\n"
    }
   }
  },
  {
   "cell_type": "code",
   "execution_count": 4,
   "outputs": [],
   "source": [
    "# restart the jupyter notebook to make room for the df\n",
    "# Comment this section out so you don't accidentall re-run it.\n",
    "# rerun the first cell to import libraries, and take a peek at all the dataframe"
   ],
   "metadata": {
    "collapsed": false,
    "pycharm": {
     "name": "#%%\n"
    }
   }
  },
  {
   "cell_type": "code",
   "execution_count": 3,
   "outputs": [
    {
     "data": {
      "text/plain": "  0%|          | 0/37 [00:00<?, ?it/s]",
      "application/vnd.jupyter.widget-view+json": {
       "version_major": 2,
       "version_minor": 0,
       "model_id": "d689706589364605ae07a59e5965ba09"
      }
     },
     "metadata": {},
     "output_type": "display_data"
    },
    {
     "name": "stdout",
     "output_type": "stream",
     "text": [
      "Reading json file:  /home/karl/PycharmProjects/UCSF_dobbs_roe/data/from_2020_01_01/dobbs_private.json\n",
      "Reading json file:  /home/karl/PycharmProjects/UCSF_dobbs_roe/data/from_2020_01_01/jackson_phi_wang_magicman_jacksonwangmagicman.json\n",
      "Reading json file:  /home/karl/PycharmProjects/UCSF_dobbs_roe/data/from_2020_01_01/roe_phi.json\n",
      "Reading json file:  /home/karl/PycharmProjects/UCSF_dobbs_roe/data/from_2020_01_01/roe_hipaa.json\n",
      "Reading json file:  /home/karl/PycharmProjects/UCSF_dobbs_roe/data/from_2020_01_01/abortion_private.json\n",
      "Reading json file:  /home/karl/PycharmProjects/UCSF_dobbs_roe/data/from_2020_01_01/wade_share.json\n",
      "Reading json file:  /home/karl/PycharmProjects/UCSF_dobbs_roe/data/from_2020_01_01/roe_wade.json\n",
      "Reading json file:  /home/karl/PycharmProjects/UCSF_dobbs_roe/data/from_2020_01_01/dobbs_disclosure.json\n",
      "Reading json file:  /home/karl/PycharmProjects/UCSF_dobbs_roe/data/from_2020_01_01/abortion_share.json\n",
      "Reading json file:  /home/karl/PycharmProjects/UCSF_dobbs_roe/data/from_2020_01_01/wade_hipaa.json\n",
      "Reading json file:  /home/karl/PycharmProjects/UCSF_dobbs_roe/data/from_2020_01_01/jackson_hipaa_wang_magicman_jacksonwangmagicman.json\n",
      "Reading json file:  /home/karl/PycharmProjects/UCSF_dobbs_roe/data/from_2020_01_01/wade_phi.json\n",
      "Reading json file:  /home/karl/PycharmProjects/UCSF_dobbs_roe/data/from_2020_01_01/roevwade.json\n",
      "Reading json file:  /home/karl/PycharmProjects/UCSF_dobbs_roe/data/from_2020_01_01/jackson_michael_wang_magicman_jacksonwangmagicman.json\n",
      "Reading json file:  /home/karl/PycharmProjects/UCSF_dobbs_roe/data/from_2020_01_01/dobbsvjackson.json\n",
      "Reading json file:  /home/karl/PycharmProjects/UCSF_dobbs_roe/data/from_2020_01_01/abortion_hipaa.json\n",
      "Reading json file:  /home/karl/PycharmProjects/UCSF_dobbs_roe/data/from_2020_01_01/roe_private.json\n",
      "Reading json file:  /home/karl/PycharmProjects/UCSF_dobbs_roe/data/from_2020_01_01/jackson_private_wang_magicman_jacksonwangmagicman.json\n",
      "Reading json file:  /home/karl/PycharmProjects/UCSF_dobbs_roe/data/from_2020_01_01/dobbs_phi.json\n",
      "Reading json file:  /home/karl/PycharmProjects/UCSF_dobbs_roe/data/from_2020_01_01/dobbs.json\n",
      "Reading json file:  /home/karl/PycharmProjects/UCSF_dobbs_roe/data/from_2020_01_01/dobbs_privacy.json\n",
      "Reading json file:  /home/karl/PycharmProjects/UCSF_dobbs_roe/data/from_2020_01_01/wade_private.json\n",
      "Reading json file:  /home/karl/PycharmProjects/UCSF_dobbs_roe/data/from_2020_01_01/dobbs_jackson.json\n",
      "Reading json file:  /home/karl/PycharmProjects/UCSF_dobbs_roe/data/from_2020_01_01/roe_privacy.json\n",
      "Reading json file:  /home/karl/PycharmProjects/UCSF_dobbs_roe/data/from_2020_01_01/abortion_disclosure.json\n",
      "Reading json file:  /home/karl/PycharmProjects/UCSF_dobbs_roe/data/from_2020_01_01/roe.json\n",
      "Reading json file:  /home/karl/PycharmProjects/UCSF_dobbs_roe/data/from_2020_01_01/wade_disclosure.json\n",
      "Reading json file:  /home/karl/PycharmProjects/UCSF_dobbs_roe/data/from_2020_01_01/dobbs_hipaa.json\n",
      "Reading json file:  /home/karl/PycharmProjects/UCSF_dobbs_roe/data/from_2020_01_01/abortion_privacy.json\n",
      "Reading json file:  /home/karl/PycharmProjects/UCSF_dobbs_roe/data/from_2020_01_01/dobbs_share.json\n",
      "Reading json file:  /home/karl/PycharmProjects/UCSF_dobbs_roe/data/from_2020_01_01/wade_privacy.json\n",
      "Reading json file:  /home/karl/PycharmProjects/UCSF_dobbs_roe/data/from_2020_01_01/roe_disclosure.json\n",
      "Reading json file:  /home/karl/PycharmProjects/UCSF_dobbs_roe/data/from_2020_01_01/jackson_disclosure_wang_magicman_jacksonwangmagicman.json\n",
      "Reading json file:  /home/karl/PycharmProjects/UCSF_dobbs_roe/data/from_2020_01_01/abortion_phi.json\n",
      "Reading json file:  /home/karl/PycharmProjects/UCSF_dobbs_roe/data/from_2020_01_01/jackson_share_wang_magicman_jacksonwangmagicman.json\n",
      "Reading json file:  /home/karl/PycharmProjects/UCSF_dobbs_roe/data/from_2020_01_01/jackson_privacy_wang_magicman_jacksonwangmagicman.json\n",
      "Reading json file:  /home/karl/PycharmProjects/UCSF_dobbs_roe/data/from_2020_01_01/roe_share.json\n",
      "37 ['dobbs_private', 'jackson_phi_wang_magicman_jacksonwangmagicman', 'roe_phi', 'roe_hipaa', 'abortion_private', 'wade_share', 'roe_wade', 'dobbs_disclosure', 'abortion_share', 'wade_hipaa', 'jackson_hipaa_wang_magicman_jacksonwangmagicman', 'wade_phi', 'roevwade', 'jackson_michael_wang_magicman_jacksonwangmagicman', 'dobbsvjackson', 'abortion_hipaa', 'roe_private', 'jackson_private_wang_magicman_jacksonwangmagicman', 'dobbs_phi', 'dobbs', 'dobbs_privacy', 'wade_private', 'dobbs_jackson', 'roe_privacy', 'abortion_disclosure', 'roe', 'wade_disclosure', 'dobbs_hipaa', 'abortion_privacy', 'dobbs_share', 'wade_privacy', 'roe_disclosure', 'jackson_disclosure_wang_magicman_jacksonwangmagicman', 'abortion_phi', 'jackson_share_wang_magicman_jacksonwangmagicman', 'jackson_privacy_wang_magicman_jacksonwangmagicman', 'roe_share']\n",
      "37 [933, 2199, 93, 1785, 60430, 16291, 1644155, 122, 58667, 814, 240, 543, 408004, 5000000, 8166, 5464, 8825, 18925, 89, 648743, 4025, 7251, 22407, 50155, 1890, 4488061, 960, 220, 71439, 2198, 25221, 1001, 992, 340, 54184, 3454, 14785]\n"
     ]
    }
   ],
   "source": [
    "index_names = []\n",
    "num_tweets = []\n",
    "num_uniq_tweets = []\n",
    "num_uniq_users = []\n",
    "\n",
    "for file in tqdm(file_list):\n",
    "\n",
    "    print(\"Reading json file: \",file)\n",
    "\n",
    "    try:\n",
    "\n",
    "        data = pd.read_json(open(file, 'r', encoding='utf-8'), lines = True) # read data frame from json file\n",
    "\n",
    "        df_name = str(file)\n",
    "        index_names.append(df_name.split('/')[-1].replace('.json',''))\n",
    "\n",
    "        single_count = len(data)\n",
    "        num_tweets.append(single_count)\n",
    "\n",
    "        single_uniq_count = len(data['rawContent'].unique())\n",
    "        num_uniq_tweets.append(single_uniq_count)\n",
    "\n",
    "        single_user_count = len(data['user'].apply(lambda x: x['username']).unique())\n",
    "        num_uniq_users.append(single_user_count)\n",
    "\n",
    "    except ValueError:\n",
    "\n",
    "        print(\"\\n***Error reading json file***: \", file, \"\\n\")\n",
    "\n",
    "\n",
    "print(len(index_names), index_names)\n",
    "print(len(num_tweets), num_tweets)"
   ],
   "metadata": {
    "collapsed": false,
    "pycharm": {
     "name": "#%%\n"
    }
   }
  },
  {
   "cell_type": "code",
   "execution_count": 4,
   "outputs": [
    {
     "name": "stderr",
     "output_type": "stream",
     "text": [
      "/tmp/ipykernel_35112/3502708508.py:1: DtypeWarning: Columns (0,1,2,3,4,5,7,8,9,10,11,12,13,14,15,16,17,18,20,21,22,23,24,25,26,27,28) have mixed types. Specify dtype option on import or set low_memory=False.\n",
      "  all_df = pd.read_csv('/home/karl/PycharmProjects/UCSF_dobbs_roe/data/processed_data/all_scraped_df_12_million_2020_01_01_v4')\n"
     ]
    }
   ],
   "source": [
    "all_df = pd.read_csv('/home/karl/PycharmProjects/UCSF_dobbs_roe/data/processed_data/all_scraped_df_12_million_2020_01_01_v4')\n",
    "\n",
    "\n",
    "#index_names = sorted(index_names)\n",
    "index_names = [i.replace('_wang_magicman_jacksonwangmagicman', '') for i in index_names]\n",
    "index_names.append('all_queries')\n",
    "final_length = len(all_df)\n",
    "num_tweets.append(final_length)\n",
    "num_uniq_tweets.append(len(all_df['rawContent'].unique()))\n",
    "num_uniq_users.append(len(all_df['user'].unique()))"
   ],
   "metadata": {
    "collapsed": false,
    "pycharm": {
     "name": "#%%\n"
    }
   }
  },
  {
   "cell_type": "code",
   "execution_count": 5,
   "outputs": [
    {
     "name": "stdout",
     "output_type": "stream",
     "text": [
      "['dobbs_private', 'jackson_phi', 'roe_phi', 'roe_hipaa', 'abortion_private', 'wade_share', 'roe_wade', 'dobbs_disclosure', 'abortion_share', 'wade_hipaa', 'jackson_hipaa', 'wade_phi', 'roevwade', 'jackson_michael', 'dobbsvjackson', 'abortion_hipaa', 'roe_private', 'jackson_private', 'dobbs_phi', 'dobbs', 'dobbs_privacy', 'wade_private', 'dobbs_jackson', 'roe_privacy', 'abortion_disclosure', 'roe', 'wade_disclosure', 'dobbs_hipaa', 'abortion_privacy', 'dobbs_share', 'wade_privacy', 'roe_disclosure', 'jackson_disclosure', 'abortion_phi', 'jackson_share', 'jackson_privacy', 'roe_share', 'all_queries']\n",
      "38\n",
      "38\n",
      "38\n",
      "38\n"
     ]
    }
   ],
   "source": [
    "print(index_names)\n",
    "print(len(index_names))\n",
    "print(len(num_tweets))\n",
    "print(len(num_uniq_tweets))\n",
    "print(len(num_uniq_users))\n"
   ],
   "metadata": {
    "collapsed": false,
    "pycharm": {
     "name": "#%%\n"
    }
   }
  },
  {
   "cell_type": "code",
   "execution_count": 6,
   "outputs": [
    {
     "data": {
      "text/plain": "                  query  number_of_tweets  number_of_unique_tweets  \\\n0         dobbs_private               933                      897   \n1           jackson_phi              2199                     2153   \n2               roe_phi                93                       93   \n3             roe_hipaa              1785                     1782   \n4      abortion_private             60430                    60090   \n5            wade_share             16291                    16178   \n6              roe_wade           1644155                  1627157   \n7      dobbs_disclosure               122                      120   \n8        abortion_share             58667                    57887   \n9            wade_hipaa               814                      813   \n10        jackson_hipaa               240                      240   \n11             wade_phi               543                      538   \n12             roevwade            408004                   397012   \n13      jackson_michael           5000000                  4745726   \n14        dobbsvjackson              8166                     8087   \n15       abortion_hipaa              5464                     5441   \n16          roe_private              8825                     8802   \n17      jackson_private             18925                    18314   \n18            dobbs_phi                89                       89   \n19                dobbs            648743                   633622   \n20        dobbs_privacy              4025                     4015   \n21         wade_private              7251                     7208   \n22        dobbs_jackson             22407                    20531   \n23          roe_privacy             50155                    49977   \n24  abortion_disclosure              1890                     1878   \n25                  roe           4488061                  4400667   \n26      wade_disclosure               960                      952   \n27          dobbs_hipaa               220                      218   \n28     abortion_privacy             71439                    70277   \n29          dobbs_share              2198                     2176   \n30         wade_privacy             25221                    25096   \n31       roe_disclosure              1001                      993   \n32   jackson_disclosure               992                      989   \n33         abortion_phi               340                      338   \n34        jackson_share             54184                    52579   \n35      jackson_privacy              3454                     3428   \n36            roe_share             14785                    14544   \n37          all_queries          14912707                 10360328   \n\n    number_of_unique_users  \n0                      755  \n1                     1509  \n2                       71  \n3                     1339  \n4                    44665  \n5                    11692  \n6                   741982  \n7                      100  \n8                    40793  \n9                      715  \n10                     198  \n11                     332  \n12                  178968  \n13                 1591203  \n14                    3902  \n15                    4326  \n16                    7100  \n17                   12169  \n18                      71  \n19                  251415  \n20                    2911  \n21                    5982  \n22                   12883  \n23                   33512  \n24                    1620  \n25                 1269506  \n26                     844  \n27                     142  \n28                   46949  \n29                    1715  \n30                   18996  \n31                     867  \n32                     800  \n33                     208  \n34                   34129  \n35                    2429  \n36                   10711  \n37                 5703747  ",
      "text/html": "<div>\n<style scoped>\n    .dataframe tbody tr th:only-of-type {\n        vertical-align: middle;\n    }\n\n    .dataframe tbody tr th {\n        vertical-align: top;\n    }\n\n    .dataframe thead th {\n        text-align: right;\n    }\n</style>\n<table border=\"1\" class=\"dataframe\">\n  <thead>\n    <tr style=\"text-align: right;\">\n      <th></th>\n      <th>query</th>\n      <th>number_of_tweets</th>\n      <th>number_of_unique_tweets</th>\n      <th>number_of_unique_users</th>\n    </tr>\n  </thead>\n  <tbody>\n    <tr>\n      <th>0</th>\n      <td>dobbs_private</td>\n      <td>933</td>\n      <td>897</td>\n      <td>755</td>\n    </tr>\n    <tr>\n      <th>1</th>\n      <td>jackson_phi</td>\n      <td>2199</td>\n      <td>2153</td>\n      <td>1509</td>\n    </tr>\n    <tr>\n      <th>2</th>\n      <td>roe_phi</td>\n      <td>93</td>\n      <td>93</td>\n      <td>71</td>\n    </tr>\n    <tr>\n      <th>3</th>\n      <td>roe_hipaa</td>\n      <td>1785</td>\n      <td>1782</td>\n      <td>1339</td>\n    </tr>\n    <tr>\n      <th>4</th>\n      <td>abortion_private</td>\n      <td>60430</td>\n      <td>60090</td>\n      <td>44665</td>\n    </tr>\n    <tr>\n      <th>5</th>\n      <td>wade_share</td>\n      <td>16291</td>\n      <td>16178</td>\n      <td>11692</td>\n    </tr>\n    <tr>\n      <th>6</th>\n      <td>roe_wade</td>\n      <td>1644155</td>\n      <td>1627157</td>\n      <td>741982</td>\n    </tr>\n    <tr>\n      <th>7</th>\n      <td>dobbs_disclosure</td>\n      <td>122</td>\n      <td>120</td>\n      <td>100</td>\n    </tr>\n    <tr>\n      <th>8</th>\n      <td>abortion_share</td>\n      <td>58667</td>\n      <td>57887</td>\n      <td>40793</td>\n    </tr>\n    <tr>\n      <th>9</th>\n      <td>wade_hipaa</td>\n      <td>814</td>\n      <td>813</td>\n      <td>715</td>\n    </tr>\n    <tr>\n      <th>10</th>\n      <td>jackson_hipaa</td>\n      <td>240</td>\n      <td>240</td>\n      <td>198</td>\n    </tr>\n    <tr>\n      <th>11</th>\n      <td>wade_phi</td>\n      <td>543</td>\n      <td>538</td>\n      <td>332</td>\n    </tr>\n    <tr>\n      <th>12</th>\n      <td>roevwade</td>\n      <td>408004</td>\n      <td>397012</td>\n      <td>178968</td>\n    </tr>\n    <tr>\n      <th>13</th>\n      <td>jackson_michael</td>\n      <td>5000000</td>\n      <td>4745726</td>\n      <td>1591203</td>\n    </tr>\n    <tr>\n      <th>14</th>\n      <td>dobbsvjackson</td>\n      <td>8166</td>\n      <td>8087</td>\n      <td>3902</td>\n    </tr>\n    <tr>\n      <th>15</th>\n      <td>abortion_hipaa</td>\n      <td>5464</td>\n      <td>5441</td>\n      <td>4326</td>\n    </tr>\n    <tr>\n      <th>16</th>\n      <td>roe_private</td>\n      <td>8825</td>\n      <td>8802</td>\n      <td>7100</td>\n    </tr>\n    <tr>\n      <th>17</th>\n      <td>jackson_private</td>\n      <td>18925</td>\n      <td>18314</td>\n      <td>12169</td>\n    </tr>\n    <tr>\n      <th>18</th>\n      <td>dobbs_phi</td>\n      <td>89</td>\n      <td>89</td>\n      <td>71</td>\n    </tr>\n    <tr>\n      <th>19</th>\n      <td>dobbs</td>\n      <td>648743</td>\n      <td>633622</td>\n      <td>251415</td>\n    </tr>\n    <tr>\n      <th>20</th>\n      <td>dobbs_privacy</td>\n      <td>4025</td>\n      <td>4015</td>\n      <td>2911</td>\n    </tr>\n    <tr>\n      <th>21</th>\n      <td>wade_private</td>\n      <td>7251</td>\n      <td>7208</td>\n      <td>5982</td>\n    </tr>\n    <tr>\n      <th>22</th>\n      <td>dobbs_jackson</td>\n      <td>22407</td>\n      <td>20531</td>\n      <td>12883</td>\n    </tr>\n    <tr>\n      <th>23</th>\n      <td>roe_privacy</td>\n      <td>50155</td>\n      <td>49977</td>\n      <td>33512</td>\n    </tr>\n    <tr>\n      <th>24</th>\n      <td>abortion_disclosure</td>\n      <td>1890</td>\n      <td>1878</td>\n      <td>1620</td>\n    </tr>\n    <tr>\n      <th>25</th>\n      <td>roe</td>\n      <td>4488061</td>\n      <td>4400667</td>\n      <td>1269506</td>\n    </tr>\n    <tr>\n      <th>26</th>\n      <td>wade_disclosure</td>\n      <td>960</td>\n      <td>952</td>\n      <td>844</td>\n    </tr>\n    <tr>\n      <th>27</th>\n      <td>dobbs_hipaa</td>\n      <td>220</td>\n      <td>218</td>\n      <td>142</td>\n    </tr>\n    <tr>\n      <th>28</th>\n      <td>abortion_privacy</td>\n      <td>71439</td>\n      <td>70277</td>\n      <td>46949</td>\n    </tr>\n    <tr>\n      <th>29</th>\n      <td>dobbs_share</td>\n      <td>2198</td>\n      <td>2176</td>\n      <td>1715</td>\n    </tr>\n    <tr>\n      <th>30</th>\n      <td>wade_privacy</td>\n      <td>25221</td>\n      <td>25096</td>\n      <td>18996</td>\n    </tr>\n    <tr>\n      <th>31</th>\n      <td>roe_disclosure</td>\n      <td>1001</td>\n      <td>993</td>\n      <td>867</td>\n    </tr>\n    <tr>\n      <th>32</th>\n      <td>jackson_disclosure</td>\n      <td>992</td>\n      <td>989</td>\n      <td>800</td>\n    </tr>\n    <tr>\n      <th>33</th>\n      <td>abortion_phi</td>\n      <td>340</td>\n      <td>338</td>\n      <td>208</td>\n    </tr>\n    <tr>\n      <th>34</th>\n      <td>jackson_share</td>\n      <td>54184</td>\n      <td>52579</td>\n      <td>34129</td>\n    </tr>\n    <tr>\n      <th>35</th>\n      <td>jackson_privacy</td>\n      <td>3454</td>\n      <td>3428</td>\n      <td>2429</td>\n    </tr>\n    <tr>\n      <th>36</th>\n      <td>roe_share</td>\n      <td>14785</td>\n      <td>14544</td>\n      <td>10711</td>\n    </tr>\n    <tr>\n      <th>37</th>\n      <td>all_queries</td>\n      <td>14912707</td>\n      <td>10360328</td>\n      <td>5703747</td>\n    </tr>\n  </tbody>\n</table>\n</div>"
     },
     "execution_count": 6,
     "metadata": {},
     "output_type": "execute_result"
    }
   ],
   "source": [
    "descriptive_df = pd.DataFrame(\n",
    "    {\n",
    "        'query': index_names,\n",
    "        'number_of_tweets': num_tweets,\n",
    "        'number_of_unique_tweets': num_uniq_tweets,\n",
    "        'number_of_unique_users' : num_uniq_users\n",
    "    }\n",
    ")\n",
    "# visualize the descriptive table\n",
    "descriptive_df\n"
   ],
   "metadata": {
    "collapsed": false,
    "pycharm": {
     "name": "#%%\n"
    }
   }
  },
  {
   "cell_type": "code",
   "execution_count": 7,
   "outputs": [],
   "source": [
    "\n",
    "descriptive_df.to_csv('/home/karl/PycharmProjects/UCSF_dobbs_roe/data/processed_data/query_descriptive_table_v4.csv')\n"
   ],
   "metadata": {
    "collapsed": false,
    "pycharm": {
     "name": "#%%\n"
    }
   }
  },
  {
   "cell_type": "code",
   "execution_count": null,
   "outputs": [],
   "source": [
    "\"\"\"\n",
    "# If there is an error in reading any of the json files, you should uncomment this cell then run this for each corrupted JSON file\n",
    "# You will have to delete any saved files from concatted dataframes and restart the jupyter notebook once you sort it out\n",
    "# This may work for you but you may need a custom solution, this is what happens when you scrape millions of tweets\n",
    "\n",
    "\n",
    "import json\n",
    "tweets = []\n",
    "for line in open('/home/karl/PycharmProjects/UCSF_dobbs_roe/data/from_2020_01_01/abortion_privacy.json'):\n",
    "    try:\n",
    "        tweets.append(json.loads(line))\n",
    "    except:\n",
    "        pass\n",
    "\n",
    "data = pd.DataFrame(tweets)\n",
    "\n",
    "data.to_json('abortion_privacy.json', lines=True)\n",
    "\"\"\"\n"
   ],
   "metadata": {
    "collapsed": false,
    "pycharm": {
     "name": "#%%\n"
    }
   }
  },
  {
   "cell_type": "code",
   "execution_count": null,
   "outputs": [],
   "source": [
    "\n",
    "\n",
    "all_df\n"
   ],
   "metadata": {
    "collapsed": false,
    "pycharm": {
     "name": "#%%\n"
    }
   }
  }
 ],
 "metadata": {
  "kernelspec": {
   "display_name": "Python 3",
   "language": "python",
   "name": "python3"
  },
  "language_info": {
   "codemirror_mode": {
    "name": "ipython",
    "version": 2
   },
   "file_extension": ".py",
   "mimetype": "text/x-python",
   "name": "python",
   "nbconvert_exporter": "python",
   "pygments_lexer": "ipython2",
   "version": "2.7.6"
  }
 },
 "nbformat": 4,
 "nbformat_minor": 0
}