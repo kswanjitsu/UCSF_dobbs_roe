{
 "cells": [
  {
   "cell_type": "code",
   "execution_count": 1,
   "outputs": [],
   "source": [
    "import os\n",
    "import dask"
   ],
   "metadata": {
    "collapsed": false,
    "pycharm": {
     "name": "#%%\n"
    }
   }
  },
  {
   "cell_type": "code",
   "execution_count": 3,
   "outputs": [],
   "source": [
    "# if using this be sure to edit the path in the os command\n",
    "# to suit wherever you'd like the data to be saved.\n",
    "def scrape_function(query):\n",
    "    filename = query.replace(' ', '_').replace('-','')\n",
    "    try:\n",
    "        os.system(\"snscrape --jsonl --retries 20 --max-results 5000000 --since 2020-01-01 twitter-search '{}' >data/from_2020_01_01/{}.json\".format(query,filename))\n",
    "        print('Finished querying:',query)\n",
    "    except:\n",
    "        print ('Error for {}'.format(query))"
   ],
   "metadata": {
    "collapsed": false,
    "pycharm": {
     "name": "#%%\n"
    }
   }
  },
  {
   "cell_type": "code",
   "execution_count": 4,
   "outputs": [],
   "source": [
    "search_terms = ['dobbs',\n",
    "                'dobbs jackson',\n",
    "                'dobbsvjackson',\n",
    "                'jackson -michael -wang -magicman -jacksonwangmagicman',\n",
    "                'roe',\n",
    "                'roe wade',\n",
    "                'roevwade',\n",
    "                'abortion privacy',\n",
    "                'dobbs privacy',\n",
    "                'dobbs share',\n",
    "                'dobbs hipaa',\n",
    "                'dobbs private',\n",
    "                'dobbs disclosure',\n",
    "                'dobbs phi',\n",
    "                'jackson privacy -wang -magicman -jacksonwangmagicman',\n",
    "                'jackson share -wang -magicman -jacksonwangmagicman',\n",
    "                'jackson hipaa -wang -magicman -jacksonwangmagicman',\n",
    "                'jackson private -wang -magicman -jacksonwangmagicman',\n",
    "                'jackson disclosure -wang -magicman -jacksonwangmagicman',\n",
    "                'jackson phi -wang -magicman -jacksonwangmagicman',\n",
    "                'roe privacy',\n",
    "                'roe share',\n",
    "                'roe hipaa',\n",
    "                'roe private',\n",
    "                'roe disclosure',\n",
    "                'roe phi',\n",
    "                'wade privacy',\n",
    "                'wade share',\n",
    "                'wade hipaa',\n",
    "                'wade private',\n",
    "                'wade disclosure',\n",
    "                'wade phi',\n",
    "                'abortion privacy',\n",
    "                'abortion share',\n",
    "                'abortion hipaa',\n",
    "                'abortion private',\n",
    "                'abortion disclosure',\n",
    "                'abortion phi',\n",
    "                ]\n"
   ],
   "metadata": {
    "collapsed": false,
    "pycharm": {
     "name": "#%%\n"
    }
   }
  },
  {
   "cell_type": "code",
   "execution_count": 5,
   "outputs": [],
   "source": [
    "lazy_results = []\n",
    "for parameters in search_terms:\n",
    "    lazy_result = dask.delayed(scrape_function)(parameters)\n",
    "    lazy_results.append(lazy_result)"
   ],
   "metadata": {
    "collapsed": false,
    "pycharm": {
     "name": "#%%\n"
    }
   }
  },
  {
   "cell_type": "code",
   "execution_count": 6,
   "outputs": [
    {
     "name": "stdout",
     "output_type": "stream",
     "text": [
      "Finished querying: dobbs phi\n",
      "Finished querying: roe phi\n",
      "Finished querying: dobbs disclosure\n",
      "Finished querying: dobbs hipaa\n",
      "Finished querying: jackson hipaa -wang -magicman -jacksonwangmagicman\n",
      "Finished querying: abortion phi\n",
      "Finished querying: wade phi\n",
      "Finished querying: wade hipaa\n",
      "Finished querying: wade disclosure\n",
      "Finished querying: roe disclosure\n",
      "Finished querying: dobbs private\n",
      "Finished querying: jackson disclosure -wang -magicman -jacksonwangmagicman\n",
      "Finished querying: roe hipaa\n",
      "Finished querying: abortion disclosure\n",
      "Finished querying: jackson phi -wang -magicman -jacksonwangmagicman\n",
      "Finished querying: dobbs share\n",
      "Finished querying: jackson privacy -wang -magicman -jacksonwangmagicman\n",
      "Finished querying: dobbs privacy\n",
      "Finished querying: abortion hipaa\n",
      "Finished querying: wade private\n",
      "Finished querying: dobbsvjackson\n",
      "Finished querying: roe private\n",
      "Finished querying: roe share\n",
      "Finished querying: wade share\n",
      "Finished querying: jackson private -wang -magicman -jacksonwangmagicman\n",
      "Finished querying: dobbs jackson\n",
      "Finished querying: wade privacy\n",
      "Finished querying: roe privacy\n",
      "Finished querying: abortion private\n",
      "Finished querying: jackson share -wang -magicman -jacksonwangmagicman\n",
      "Finished querying: abortion share\n",
      "Finished querying: abortion privacy\n",
      "Finished querying: abortion privacy\n"
     ]
    },
    {
     "name": "stderr",
     "output_type": "stream",
     "text": [
      "2022-10-17 10:28:09.837  WARNING  snscrape.modules.twitter  Tweet 1565551951336468482 contains an app icon medium key '4_1581818312446599168' on app 'iphone_app'/'1631320609', but the corresponding medium is missing; dropping\n",
      "2022-10-17 10:28:09.837  WARNING  snscrape.modules.twitter  Tweet 1565551951336468482 contains an app icon medium key '4_1581818312446599168' on app 'ipad_app'/'1631320609', but the corresponding medium is missing; dropping\n",
      "2022-10-17 11:43:01.970  WARNING  snscrape.modules.twitter  Tweet 1574493258755063808 contains an app icon medium key '4_1581852293531680768' on app 'iphone_app'/'1437843273', but the corresponding medium is missing; dropping\n",
      "2022-10-17 11:43:01.970  WARNING  snscrape.modules.twitter  Tweet 1574493258755063808 contains an app icon medium key '4_1581852293531680768' on app 'ipad_app'/'1437843273', but the corresponding medium is missing; dropping\n"
     ]
    },
    {
     "name": "stdout",
     "output_type": "stream",
     "text": [
      "Finished querying: roevwade\n",
      "Finished querying: dobbs\n",
      "Finished querying: roe wade\n"
     ]
    },
    {
     "name": "stderr",
     "output_type": "stream",
     "text": [
      "2022-10-17 22:25:40.737  WARNING  snscrape.modules.twitter  Tweet 1547473216708517891 contains an app icon medium key '4_1582109748811399176' on app 'android_app'/'com.bd.nproject', but the corresponding medium is missing; dropping\n",
      "2022-10-18 00:08:33.895  WARNING  snscrape.modules.twitter  Unsupported unified_card type on tweet 1553126600614592521\n",
      "2022-10-18 02:44:26.628  WARNING  snscrape.modules.twitter  Unsupported unified_card type on tweet 1547532194599653376\n",
      "2022-10-18 04:38:33.919  WARNING  snscrape.modules.twitter  Tweet 1489254851557142528 contains an app icon medium key '4_1582059818436681729' on app 'iphone_app'/'1477455989', but the corresponding medium is missing; dropping\n",
      "2022-10-18 04:38:33.919  WARNING  snscrape.modules.twitter  Tweet 1489254851557142528 contains an app icon medium key '4_1582059818436681729' on app 'ipad_app'/'1477455989', but the corresponding medium is missing; dropping\n",
      "2022-10-18 07:27:02.118  WARNING  snscrape.modules.twitter  Unsupported unified_card type on tweet 1440000861149696000\n",
      "2022-10-18 08:57:51.322  WARNING  snscrape.modules.twitter  Tweet 1396731987004575745 contains an app icon medium key '4_1582059818436681729' on app 'iphone_app'/'1477455989', but the corresponding medium is missing; dropping\n",
      "2022-10-18 08:57:51.322  WARNING  snscrape.modules.twitter  Tweet 1396731987004575745 contains an app icon medium key '4_1582059818436681729' on app 'ipad_app'/'1477455989', but the corresponding medium is missing; dropping\n",
      "2022-10-18 11:47:00.872  WARNING  snscrape.modules.twitter  Tweet 1310436049420648450 contains an app icon medium key '4_1582352793674948610' on app 'android_app'/'com.im30.ROE.gp', but the corresponding medium is missing; dropping\n",
      "2022-10-18 12:33:05.255  WARNING  snscrape.modules.twitter  Tweet 1311196116562489345 contains an app icon medium key '4_1582352793674948610' on app 'android_app'/'com.im30.ROE.gp', but the corresponding medium is missing; dropping\n",
      "2022-10-18 12:52:51.993  WARNING  snscrape.modules.twitter  Tweet 1522593675242520577 contains an app icon medium key '4_1582306920106717185' on app 'android_app'/'com.hubtel.hcb', but the corresponding medium is missing; dropping\n",
      "2022-10-18 12:58:21.715  WARNING  snscrape.modules.twitter  Tweet 1310436049420648450 contains an app icon medium key '4_1582352793674948610' on app 'android_app'/'com.im30.ROE.gp', but the corresponding medium is missing; dropping\n",
      "2022-10-18 13:41:47.512  WARNING  snscrape.modules.twitter  Tweet 1297975350899535872 contains an app icon medium key '4_1582453161968615424' on app 'android_app'/'com.quibi.qlient', but the corresponding medium is missing; dropping\n",
      "2022-10-18 14:02:49.025  WARNING  snscrape.modules.twitter  Tweet 1282665581699833858 contains an app icon medium key '4_1582431973741559810' on app 'iphone_app'/'1484056059', but the corresponding medium is missing; dropping\n",
      "2022-10-18 14:02:49.025  WARNING  snscrape.modules.twitter  Tweet 1282665581699833858 contains an app icon medium key '4_1582431973649285121' on app 'android_app'/'com.my.world.above', but the corresponding medium is missing; dropping\n",
      "2022-10-18 14:02:49.025  WARNING  snscrape.modules.twitter  Tweet 1282665581699833858 contains an app icon medium key '4_1582431973741559810' on app 'ipad_app'/'1484056059', but the corresponding medium is missing; dropping\n",
      "2022-10-18 17:08:53.227  WARNING  snscrape.modules.twitter  Tweet 1210727063021178886 contains an app icon medium key '4_1582436613237444611' on app 'android_app'/'com.pubg.krmobile', but the corresponding medium is missing; dropping\n"
     ]
    },
    {
     "name": "stdout",
     "output_type": "stream",
     "text": [
      "Finished querying: roe\n"
     ]
    },
    {
     "name": "stderr",
     "output_type": "stream",
     "text": [
      "2022-10-18 19:31:43.280  WARNING  snscrape.modules.twitter  Could not translate t.co card URL on tweet 1511318996183789571\n",
      "2022-10-18 21:04:15.207  WARNING  snscrape.modules.twitter  Tweet 1506571055724642312 contains an app icon medium key '4_1582468008970440704' on app 'iphone_app'/'1601366224', but the corresponding medium is missing; dropping\n",
      "2022-10-18 21:04:15.207  WARNING  snscrape.modules.twitter  Tweet 1506571055724642312 contains an app icon medium key '4_1582396068683124736' on app 'android_app'/'com.bandainamcoent.gnavi_jp', but the corresponding medium is missing; dropping\n",
      "2022-10-18 21:04:15.207  WARNING  snscrape.modules.twitter  Tweet 1506571055724642312 contains an app icon medium key '4_1582468008970440704' on app 'ipad_app'/'1601366224', but the corresponding medium is missing; dropping\n"
     ]
    },
    {
     "name": "stdout",
     "output_type": "stream",
     "text": [
      "Finished querying: jackson -michael -wang -magicman -jacksonwangmagicman\n"
     ]
    },
    {
     "data": {
      "text/plain": "(None,\n None,\n None,\n None,\n None,\n None,\n None,\n None,\n None,\n None,\n None,\n None,\n None,\n None,\n None,\n None,\n None,\n None,\n None,\n None,\n None,\n None,\n None,\n None,\n None,\n None,\n None,\n None,\n None,\n None,\n None,\n None,\n None,\n None,\n None,\n None,\n None,\n None)"
     },
     "execution_count": 6,
     "metadata": {},
     "output_type": "execute_result"
    }
   ],
   "source": [
    "dask.compute(*lazy_results)"
   ],
   "metadata": {
    "collapsed": false,
    "pycharm": {
     "name": "#%%\n"
    }
   }
  },
  {
   "cell_type": "code",
   "execution_count": 5,
   "outputs": [],
   "source": [
    "# Create word2vec model for axis of privacy relating words\n",
    "# Create NER model from surgeai data - label each tweet as pro or life\n",
    "# Do analysis similar to surgeai page\n",
    "# ?Publish model to hugging face\n",
    "# Table of stats (use some from the surge AI jawn)\n",
    "# ITSA of engagement, sentiment, and axis of privacy maybe split for pro-life and pro-choice\n",
    "\n",
    "# re-scrape [\"abortion privacy\", \"dobbsvjackson\","
   ],
   "metadata": {
    "collapsed": false,
    "pycharm": {
     "name": "#%%\n"
    }
   }
  }
 ],
 "metadata": {
  "kernelspec": {
   "display_name": "Python 3",
   "language": "python",
   "name": "python3"
  },
  "language_info": {
   "codemirror_mode": {
    "name": "ipython",
    "version": 2
   },
   "file_extension": ".py",
   "mimetype": "text/x-python",
   "name": "python",
   "nbconvert_exporter": "python",
   "pygments_lexer": "ipython2",
   "version": "2.7.6"
  }
 },
 "nbformat": 4,
 "nbformat_minor": 0
}