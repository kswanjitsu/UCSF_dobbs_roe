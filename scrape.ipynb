{
 "cells": [
  {
   "cell_type": "code",
   "execution_count": 1,
   "outputs": [],
   "source": [
    "import os\n",
    "import dask\n"
   ],
   "metadata": {
    "collapsed": false,
    "pycharm": {
     "name": "#%%\n"
    }
   }
  },
  {
   "cell_type": "code",
   "execution_count": null,
   "outputs": [],
   "source": [
    "# if using this be sure to edit the path in the os command\n",
    "# to suit wherever you'd like the data to be saved.\n",
    "def scrape_function(query):\n",
    "    filename = query.replace(' ', '_')\n",
    "    os.system(\"snscrape --jsonl --max-results 1000000 --since 2020-03-01 twitter-search '{}' >data/from_2020_06_01/{}.json\".format(query,filename))\n",
    "    print('Finished querying:',query)"
   ],
   "metadata": {
    "collapsed": false,
    "pycharm": {
     "name": "#%%\n"
    }
   }
  },
  {
   "cell_type": "code",
   "execution_count": 3,
   "outputs": [],
   "source": [
    "search_terms = ['dobbs',\n",
    "                'jackson',\n",
    "                'roe',\n",
    "                'wade',\n",
    "                'abortion privacy',\n",
    "                'dobbs doctor',\n",
    "                'dobbs provider',\n",
    "                'dobs physician',\n",
    "                'dobbs clinic',\n",
    "                'dobbs visit',\n",
    "                'dobbs hospital',\n",
    "                'dobbs healthcare',\n",
    "                'jackson doctor',\n",
    "                'jackson provider',\n",
    "                'jackson physician',\n",
    "                'jackson clinic',\n",
    "                'jackson visit',\n",
    "                'jackson hospital',\n",
    "                'jackson healthcare',\n",
    "                'roe doctor',\n",
    "                'roe provider',\n",
    "                'roe physician',\n",
    "                'roe clinic',\n",
    "                'roe visit',\n",
    "                'roe hospital',\n",
    "                'roe healthcare',\n",
    "                'wade doctor',\n",
    "                'wade provider',\n",
    "                'wade physician',\n",
    "                'wade clinic',\n",
    "                'wade visit',\n",
    "                'wade hospital',\n",
    "                'wade healthcare',\n",
    "                'wade doctor',\n",
    "                'wade provider',\n",
    "                'wade physician',\n",
    "                'wade clinic',\n",
    "                'wade visit',\n",
    "                'wade hospital',\n",
    "                'wade healthcare',\n",
    "                'abortion doctor',\n",
    "                'abortion provider',\n",
    "                'abortion physician',\n",
    "                'abortion clinic',\n",
    "                'abortion visit',\n",
    "                'abortion hospital',\n",
    "                'abortion healthcare',\n",
    "                ]"
   ],
   "metadata": {
    "collapsed": false,
    "pycharm": {
     "name": "#%%\n"
    }
   }
  },
  {
   "cell_type": "code",
   "execution_count": 4,
   "outputs": [],
   "source": [
    "lazy_results = []\n",
    "for parameters in search_terms:\n",
    "    lazy_result = dask.delayed(scrape_function)(parameters)\n",
    "    lazy_results.append(lazy_result)"
   ],
   "metadata": {
    "collapsed": false,
    "pycharm": {
     "name": "#%%\n"
    }
   }
  },
  {
   "cell_type": "code",
   "execution_count": 5,
   "outputs": [
    {
     "name": "stdout",
     "output_type": "stream",
     "text": [
      "Finished querying: dobs physician\n",
      "Finished querying: dobbs provider\n",
      "Finished querying: dobbs visit\n",
      "Finished querying: dobbs clinic\n",
      "Finished querying: wade physician\n",
      "Finished querying: wade physician\n",
      "Finished querying: wade provider\n",
      "Finished querying: wade provider\n",
      "Finished querying: dobbs hospital\n",
      "Finished querying: roe provider\n",
      "Finished querying: roe physician\n",
      "Finished querying: dobbs healthcare\n",
      "Finished querying: dobbs doctor\n",
      "Finished querying: jackson provider\n",
      "Finished querying: roe visit\n",
      "Finished querying: wade clinic\n",
      "Finished querying: wade clinic\n",
      "Finished querying: wade hospital\n",
      "Finished querying: wade hospital\n",
      "Finished querying: roe hospital\n",
      "Finished querying: jackson clinic\n",
      "Finished querying: wade visit\n",
      "Finished querying: wade visit\n",
      "Finished querying: roe clinic\n",
      "Finished querying: jackson healthcare\n",
      "Finished querying: jackson physician\n",
      "Finished querying: wade doctor\n",
      "Finished querying: wade doctor\n",
      "Finished querying: abortion physician\n",
      "Finished querying: wade healthcare\n",
      "Finished querying: wade healthcare\n",
      "Finished querying: abortion visit\n",
      "Finished querying: roe doctor\n",
      "Finished querying: roe healthcare\n",
      "Finished querying: abortion provider\n",
      "Finished querying: jackson visit\n",
      "Finished querying: jackson doctor\n",
      "Finished querying: jackson hospital\n",
      "Finished querying: abortion hospital\n",
      "Finished querying: abortion privacy\n",
      "Finished querying: abortion clinic\n",
      "Finished querying: abortion doctor\n",
      "Finished querying: abortion healthcare\n",
      "Finished querying: dobbs\n"
     ]
    },
    {
     "name": "stderr",
     "output_type": "stream",
     "text": [
      "2022-09-12 21:59:31.298  WARNING  snscrape.modules.twitter  Tweet 1537167396552712192 contains an app icon medium key '4_1569378673953759234' on app 'iphone_app'/'722804810', but the corresponding medium is missing; dropping\n",
      "2022-09-12 21:59:31.298  WARNING  snscrape.modules.twitter  Tweet 1537167396552712192 contains an app icon medium key '4_1569378673953759234' on app 'ipad_app'/'722804810', but the corresponding medium is missing; dropping\n"
     ]
    },
    {
     "name": "stdout",
     "output_type": "stream",
     "text": [
      "Finished querying: roe\n",
      "Finished querying: wade\n",
      "Finished querying: jackson\n"
     ]
    },
    {
     "name": "stderr",
     "output_type": "stream",
     "text": [
      "2022-09-12 23:19:07.418  ERROR  snscrape.base  Error retrieving https://api.twitter.com/2/search/adaptive.json?include_profile_interstitial_type=1&include_blocking=1&include_blocked_by=1&include_followed_by=1&include_want_retweets=1&include_mute_edge=1&include_can_dm=1&include_can_media_tag=1&include_ext_has_nft_avatar=1&skip_status=1&cards_platform=Web-12&include_cards=1&include_ext_alt_text=true&include_quote_count=true&include_reply_count=1&tweet_mode=extended&include_entities=true&include_user_entities=true&include_ext_media_color=true&include_ext_media_availability=true&include_ext_sensitive_media_warning=true&include_ext_trusted_friends_metadata=true&send_error_codes=true&simple_quoted_tweet=true&q=roe&tweet_search_mode=live&count=20&query_source=spelling_expansion_revert_click&cursor=scroll%3AthGAVUV0VFVBaAgL6h_ua85SoWhIDShejO88crEnEVn-PHBhWAiXoYB0RFRkFVTFQ1ARX-hwUVAAA%3D&pc=1&spelling_corrections=1&ext=mediaStats%2ChighlightedLabel%2ChasNftAvatar%2CvoiceInfo%2Cenrichments%2CsuperFollowMetadata%2CunmentionInfo: ConnectionError(MaxRetryError(\"HTTPSConnectionPool(host='api.twitter.com', port=443): Max retries exceeded with url: /2/search/adaptive.json?include_profile_interstitial_type=1&include_blocking=1&include_blocked_by=1&include_followed_by=1&include_want_retweets=1&include_mute_edge=1&include_can_dm=1&include_can_media_tag=1&include_ext_has_nft_avatar=1&skip_status=1&cards_platform=Web-12&include_cards=1&include_ext_alt_text=true&include_quote_count=true&include_reply_count=1&tweet_mode=extended&include_entities=true&include_user_entities=true&include_ext_media_color=true&include_ext_media_availability=true&include_ext_sensitive_media_warning=true&include_ext_trusted_friends_metadata=true&send_error_codes=true&simple_quoted_tweet=true&q=roe&tweet_search_mode=live&count=20&query_source=spelling_expansion_revert_click&cursor=scroll%3AthGAVUV0VFVBaAgL6h_ua85SoWhIDShejO88crEnEVn-PHBhWAiXoYB0RFRkFVTFQ1ARX-hwUVAAA%3D&pc=1&spelling_corrections=1&ext=mediaStats%2ChighlightedLabel%2ChasNftAvatar%2CvoiceInfo%2Cenrichments%2CsuperFollowMetadata%2CunmentionInfo (Caused by NewConnectionError('<urllib3.connection.HTTPSConnection object at 0x7f0a00681bb0>: Failed to establish a new connection: [Errno -3] Temporary failure in name resolution'))\"))\n",
      "2022-09-12 23:19:07.418  CRITICAL  snscrape.base  4 requests to https://api.twitter.com/2/search/adaptive.json?include_profile_interstitial_type=1&include_blocking=1&include_blocked_by=1&include_followed_by=1&include_want_retweets=1&include_mute_edge=1&include_can_dm=1&include_can_media_tag=1&include_ext_has_nft_avatar=1&skip_status=1&cards_platform=Web-12&include_cards=1&include_ext_alt_text=true&include_quote_count=true&include_reply_count=1&tweet_mode=extended&include_entities=true&include_user_entities=true&include_ext_media_color=true&include_ext_media_availability=true&include_ext_sensitive_media_warning=true&include_ext_trusted_friends_metadata=true&send_error_codes=true&simple_quoted_tweet=true&q=roe&tweet_search_mode=live&count=20&query_source=spelling_expansion_revert_click&cursor=scroll%3AthGAVUV0VFVBaAgL6h_ua85SoWhIDShejO88crEnEVn-PHBhWAiXoYB0RFRkFVTFQ1ARX-hwUVAAA%3D&pc=1&spelling_corrections=1&ext=mediaStats%2ChighlightedLabel%2ChasNftAvatar%2CvoiceInfo%2Cenrichments%2CsuperFollowMetadata%2CunmentionInfo failed, giving up.\n",
      "2022-09-12 23:19:07.467  CRITICAL  snscrape._cli  Dumped stack and locals to /tmp/snscrape_locals_z4yv1vlj\n",
      "Traceback (most recent call last):\n",
      "  File \"/home/karl/anaconda3/envs/UCSF_dobbs_roe/bin/snscrape\", line 8, in <module>\n",
      "    sys.exit(main())\n",
      "  File \"/home/karl/anaconda3/envs/UCSF_dobbs_roe/lib/python3.8/site-packages/snscrape/_cli.py\", line 318, in main\n",
      "    for i, item in enumerate(scraper.get_items(), start = 1):\n",
      "  File \"/home/karl/anaconda3/envs/UCSF_dobbs_roe/lib/python3.8/site-packages/snscrape/modules/twitter.py\", line 1453, in get_items\n",
      "    for obj in self._iter_api_data('https://api.twitter.com/2/search/adaptive.json', _TwitterAPIType.V2, params, paginationParams, cursor = self._cursor):\n",
      "  File \"/home/karl/anaconda3/envs/UCSF_dobbs_roe/lib/python3.8/site-packages/snscrape/modules/twitter.py\", line 720, in _iter_api_data\n",
      "    obj = self._get_api_data(endpoint, apiType, reqParams)\n",
      "  File \"/home/karl/anaconda3/envs/UCSF_dobbs_roe/lib/python3.8/site-packages/snscrape/modules/twitter.py\", line 690, in _get_api_data\n",
      "    r = self._get(endpoint, params = params, headers = self._apiHeaders, responseOkCallback = self._check_api_response)\n",
      "  File \"/home/karl/anaconda3/envs/UCSF_dobbs_roe/lib/python3.8/site-packages/snscrape/base.py\", line 221, in _get\n",
      "    return self._request('GET', *args, **kwargs)\n",
      "  File \"/home/karl/anaconda3/envs/UCSF_dobbs_roe/lib/python3.8/site-packages/snscrape/base.py\", line 217, in _request\n",
      "    raise ScraperException(msg)\n",
      "snscrape.base.ScraperException: 4 requests to https://api.twitter.com/2/search/adaptive.json?include_profile_interstitial_type=1&include_blocking=1&include_blocked_by=1&include_followed_by=1&include_want_retweets=1&include_mute_edge=1&include_can_dm=1&include_can_media_tag=1&include_ext_has_nft_avatar=1&skip_status=1&cards_platform=Web-12&include_cards=1&include_ext_alt_text=true&include_quote_count=true&include_reply_count=1&tweet_mode=extended&include_entities=true&include_user_entities=true&include_ext_media_color=true&include_ext_media_availability=true&include_ext_sensitive_media_warning=true&include_ext_trusted_friends_metadata=true&send_error_codes=true&simple_quoted_tweet=true&q=roe&tweet_search_mode=live&count=20&query_source=spelling_expansion_revert_click&cursor=scroll%3AthGAVUV0VFVBaAgL6h_ua85SoWhIDShejO88crEnEVn-PHBhWAiXoYB0RFRkFVTFQ1ARX-hwUVAAA%3D&pc=1&spelling_corrections=1&ext=mediaStats%2ChighlightedLabel%2ChasNftAvatar%2CvoiceInfo%2Cenrichments%2CsuperFollowMetadata%2CunmentionInfo failed, giving up.\n",
      "2022-09-12 23:19:07.497  ERROR  snscrape.base  Error retrieving https://api.twitter.com/2/search/adaptive.json?include_profile_interstitial_type=1&include_blocking=1&include_blocked_by=1&include_followed_by=1&include_want_retweets=1&include_mute_edge=1&include_can_dm=1&include_can_media_tag=1&include_ext_has_nft_avatar=1&skip_status=1&cards_platform=Web-12&include_cards=1&include_ext_alt_text=true&include_quote_count=true&include_reply_count=1&tweet_mode=extended&include_entities=true&include_user_entities=true&include_ext_media_color=true&include_ext_media_availability=true&include_ext_sensitive_media_warning=true&include_ext_trusted_friends_metadata=true&send_error_codes=true&simple_quoted_tweet=true&q=wade&tweet_search_mode=live&count=20&query_source=spelling_expansion_revert_click&cursor=scroll%3AthGAVUV0VFVBaOwLj5he_64CoWhIDShejO88crEnEV16jBBhWAiXoYBFVTRVI1ARXGgAUVAAA%3D&pc=1&spelling_corrections=1&ext=mediaStats%2ChighlightedLabel%2ChasNftAvatar%2CvoiceInfo%2Cenrichments%2CsuperFollowMetadata%2CunmentionInfo: ConnectionError(MaxRetryError(\"HTTPSConnectionPool(host='api.twitter.com', port=443): Max retries exceeded with url: /2/search/adaptive.json?include_profile_interstitial_type=1&include_blocking=1&include_blocked_by=1&include_followed_by=1&include_want_retweets=1&include_mute_edge=1&include_can_dm=1&include_can_media_tag=1&include_ext_has_nft_avatar=1&skip_status=1&cards_platform=Web-12&include_cards=1&include_ext_alt_text=true&include_quote_count=true&include_reply_count=1&tweet_mode=extended&include_entities=true&include_user_entities=true&include_ext_media_color=true&include_ext_media_availability=true&include_ext_sensitive_media_warning=true&include_ext_trusted_friends_metadata=true&send_error_codes=true&simple_quoted_tweet=true&q=wade&tweet_search_mode=live&count=20&query_source=spelling_expansion_revert_click&cursor=scroll%3AthGAVUV0VFVBaOwLj5he_64CoWhIDShejO88crEnEV16jBBhWAiXoYBFVTRVI1ARXGgAUVAAA%3D&pc=1&spelling_corrections=1&ext=mediaStats%2ChighlightedLabel%2ChasNftAvatar%2CvoiceInfo%2Cenrichments%2CsuperFollowMetadata%2CunmentionInfo (Caused by NewConnectionError('<urllib3.connection.HTTPSConnection object at 0x7fe644b98250>: Failed to establish a new connection: [Errno -3] Temporary failure in name resolution'))\"))\n",
      "2022-09-12 23:19:07.497  CRITICAL  snscrape.base  4 requests to https://api.twitter.com/2/search/adaptive.json?include_profile_interstitial_type=1&include_blocking=1&include_blocked_by=1&include_followed_by=1&include_want_retweets=1&include_mute_edge=1&include_can_dm=1&include_can_media_tag=1&include_ext_has_nft_avatar=1&skip_status=1&cards_platform=Web-12&include_cards=1&include_ext_alt_text=true&include_quote_count=true&include_reply_count=1&tweet_mode=extended&include_entities=true&include_user_entities=true&include_ext_media_color=true&include_ext_media_availability=true&include_ext_sensitive_media_warning=true&include_ext_trusted_friends_metadata=true&send_error_codes=true&simple_quoted_tweet=true&q=wade&tweet_search_mode=live&count=20&query_source=spelling_expansion_revert_click&cursor=scroll%3AthGAVUV0VFVBaOwLj5he_64CoWhIDShejO88crEnEV16jBBhWAiXoYBFVTRVI1ARXGgAUVAAA%3D&pc=1&spelling_corrections=1&ext=mediaStats%2ChighlightedLabel%2ChasNftAvatar%2CvoiceInfo%2Cenrichments%2CsuperFollowMetadata%2CunmentionInfo failed, giving up.\n",
      "2022-09-12 23:19:07.499  ERROR  snscrape.base  Error retrieving https://api.twitter.com/2/search/adaptive.json?include_profile_interstitial_type=1&include_blocking=1&include_blocked_by=1&include_followed_by=1&include_want_retweets=1&include_mute_edge=1&include_can_dm=1&include_can_media_tag=1&include_ext_has_nft_avatar=1&skip_status=1&cards_platform=Web-12&include_cards=1&include_ext_alt_text=true&include_quote_count=true&include_reply_count=1&tweet_mode=extended&include_entities=true&include_user_entities=true&include_ext_media_color=true&include_ext_media_availability=true&include_ext_sensitive_media_warning=true&include_ext_trusted_friends_metadata=true&send_error_codes=true&simple_quoted_tweet=true&q=jackson&tweet_search_mode=live&count=20&query_source=spelling_expansion_revert_click&cursor=scroll%3AthGAVUV0VFVBaAwLjh9bGUrCsWgoDUwcDM88crEnEV5_e6BhWAiXoYBFVTRVI1ARX4lQUVAAA%3D&pc=1&spelling_corrections=1&ext=mediaStats%2ChighlightedLabel%2ChasNftAvatar%2CvoiceInfo%2Cenrichments%2CsuperFollowMetadata%2CunmentionInfo: ConnectionError(MaxRetryError(\"HTTPSConnectionPool(host='api.twitter.com', port=443): Max retries exceeded with url: /2/search/adaptive.json?include_profile_interstitial_type=1&include_blocking=1&include_blocked_by=1&include_followed_by=1&include_want_retweets=1&include_mute_edge=1&include_can_dm=1&include_can_media_tag=1&include_ext_has_nft_avatar=1&skip_status=1&cards_platform=Web-12&include_cards=1&include_ext_alt_text=true&include_quote_count=true&include_reply_count=1&tweet_mode=extended&include_entities=true&include_user_entities=true&include_ext_media_color=true&include_ext_media_availability=true&include_ext_sensitive_media_warning=true&include_ext_trusted_friends_metadata=true&send_error_codes=true&simple_quoted_tweet=true&q=jackson&tweet_search_mode=live&count=20&query_source=spelling_expansion_revert_click&cursor=scroll%3AthGAVUV0VFVBaAwLjh9bGUrCsWgoDUwcDM88crEnEV5_e6BhWAiXoYBFVTRVI1ARX4lQUVAAA%3D&pc=1&spelling_corrections=1&ext=mediaStats%2ChighlightedLabel%2ChasNftAvatar%2CvoiceInfo%2Cenrichments%2CsuperFollowMetadata%2CunmentionInfo (Caused by NewConnectionError('<urllib3.connection.HTTPSConnection object at 0x7fdc745521c0>: Failed to establish a new connection: [Errno -3] Temporary failure in name resolution'))\"))\n",
      "2022-09-12 23:19:07.499  CRITICAL  snscrape.base  4 requests to https://api.twitter.com/2/search/adaptive.json?include_profile_interstitial_type=1&include_blocking=1&include_blocked_by=1&include_followed_by=1&include_want_retweets=1&include_mute_edge=1&include_can_dm=1&include_can_media_tag=1&include_ext_has_nft_avatar=1&skip_status=1&cards_platform=Web-12&include_cards=1&include_ext_alt_text=true&include_quote_count=true&include_reply_count=1&tweet_mode=extended&include_entities=true&include_user_entities=true&include_ext_media_color=true&include_ext_media_availability=true&include_ext_sensitive_media_warning=true&include_ext_trusted_friends_metadata=true&send_error_codes=true&simple_quoted_tweet=true&q=jackson&tweet_search_mode=live&count=20&query_source=spelling_expansion_revert_click&cursor=scroll%3AthGAVUV0VFVBaAwLjh9bGUrCsWgoDUwcDM88crEnEV5_e6BhWAiXoYBFVTRVI1ARX4lQUVAAA%3D&pc=1&spelling_corrections=1&ext=mediaStats%2ChighlightedLabel%2ChasNftAvatar%2CvoiceInfo%2Cenrichments%2CsuperFollowMetadata%2CunmentionInfo failed, giving up.\n",
      "2022-09-12 23:19:07.549  CRITICAL  snscrape._cli  Dumped stack and locals to /tmp/snscrape_locals_5t181jm9\n",
      "Traceback (most recent call last):\n",
      "  File \"/home/karl/anaconda3/envs/UCSF_dobbs_roe/bin/snscrape\", line 8, in <module>\n",
      "    sys.exit(main())\n",
      "  File \"/home/karl/anaconda3/envs/UCSF_dobbs_roe/lib/python3.8/site-packages/snscrape/_cli.py\", line 318, in main\n",
      "    for i, item in enumerate(scraper.get_items(), start = 1):\n",
      "  File \"/home/karl/anaconda3/envs/UCSF_dobbs_roe/lib/python3.8/site-packages/snscrape/modules/twitter.py\", line 1453, in get_items\n",
      "    for obj in self._iter_api_data('https://api.twitter.com/2/search/adaptive.json', _TwitterAPIType.V2, params, paginationParams, cursor = self._cursor):\n",
      "  File \"/home/karl/anaconda3/envs/UCSF_dobbs_roe/lib/python3.8/site-packages/snscrape/modules/twitter.py\", line 720, in _iter_api_data\n",
      "    obj = self._get_api_data(endpoint, apiType, reqParams)\n",
      "  File \"/home/karl/anaconda3/envs/UCSF_dobbs_roe/lib/python3.8/site-packages/snscrape/modules/twitter.py\", line 690, in _get_api_data\n",
      "    r = self._get(endpoint, params = params, headers = self._apiHeaders, responseOkCallback = self._check_api_response)\n",
      "  File \"/home/karl/anaconda3/envs/UCSF_dobbs_roe/lib/python3.8/site-packages/snscrape/base.py\", line 221, in _get\n",
      "    return self._request('GET', *args, **kwargs)\n",
      "  File \"/home/karl/anaconda3/envs/UCSF_dobbs_roe/lib/python3.8/site-packages/snscrape/base.py\", line 217, in _request\n",
      "    raise ScraperException(msg)\n",
      "snscrape.base.ScraperException: 4 requests to https://api.twitter.com/2/search/adaptive.json?include_profile_interstitial_type=1&include_blocking=1&include_blocked_by=1&include_followed_by=1&include_want_retweets=1&include_mute_edge=1&include_can_dm=1&include_can_media_tag=1&include_ext_has_nft_avatar=1&skip_status=1&cards_platform=Web-12&include_cards=1&include_ext_alt_text=true&include_quote_count=true&include_reply_count=1&tweet_mode=extended&include_entities=true&include_user_entities=true&include_ext_media_color=true&include_ext_media_availability=true&include_ext_sensitive_media_warning=true&include_ext_trusted_friends_metadata=true&send_error_codes=true&simple_quoted_tweet=true&q=wade&tweet_search_mode=live&count=20&query_source=spelling_expansion_revert_click&cursor=scroll%3AthGAVUV0VFVBaOwLj5he_64CoWhIDShejO88crEnEV16jBBhWAiXoYBFVTRVI1ARXGgAUVAAA%3D&pc=1&spelling_corrections=1&ext=mediaStats%2ChighlightedLabel%2ChasNftAvatar%2CvoiceInfo%2Cenrichments%2CsuperFollowMetadata%2CunmentionInfo failed, giving up.\n",
      "2022-09-12 23:19:07.564  CRITICAL  snscrape._cli  Dumped stack and locals to /tmp/snscrape_locals_5ccas7eb\n",
      "Traceback (most recent call last):\n",
      "  File \"/home/karl/anaconda3/envs/UCSF_dobbs_roe/bin/snscrape\", line 8, in <module>\n",
      "    sys.exit(main())\n",
      "  File \"/home/karl/anaconda3/envs/UCSF_dobbs_roe/lib/python3.8/site-packages/snscrape/_cli.py\", line 318, in main\n",
      "    for i, item in enumerate(scraper.get_items(), start = 1):\n",
      "  File \"/home/karl/anaconda3/envs/UCSF_dobbs_roe/lib/python3.8/site-packages/snscrape/modules/twitter.py\", line 1453, in get_items\n",
      "    for obj in self._iter_api_data('https://api.twitter.com/2/search/adaptive.json', _TwitterAPIType.V2, params, paginationParams, cursor = self._cursor):\n",
      "  File \"/home/karl/anaconda3/envs/UCSF_dobbs_roe/lib/python3.8/site-packages/snscrape/modules/twitter.py\", line 720, in _iter_api_data\n",
      "    obj = self._get_api_data(endpoint, apiType, reqParams)\n",
      "  File \"/home/karl/anaconda3/envs/UCSF_dobbs_roe/lib/python3.8/site-packages/snscrape/modules/twitter.py\", line 690, in _get_api_data\n",
      "    r = self._get(endpoint, params = params, headers = self._apiHeaders, responseOkCallback = self._check_api_response)\n",
      "  File \"/home/karl/anaconda3/envs/UCSF_dobbs_roe/lib/python3.8/site-packages/snscrape/base.py\", line 221, in _get\n",
      "    return self._request('GET', *args, **kwargs)\n",
      "  File \"/home/karl/anaconda3/envs/UCSF_dobbs_roe/lib/python3.8/site-packages/snscrape/base.py\", line 217, in _request\n",
      "    raise ScraperException(msg)\n",
      "snscrape.base.ScraperException: 4 requests to https://api.twitter.com/2/search/adaptive.json?include_profile_interstitial_type=1&include_blocking=1&include_blocked_by=1&include_followed_by=1&include_want_retweets=1&include_mute_edge=1&include_can_dm=1&include_can_media_tag=1&include_ext_has_nft_avatar=1&skip_status=1&cards_platform=Web-12&include_cards=1&include_ext_alt_text=true&include_quote_count=true&include_reply_count=1&tweet_mode=extended&include_entities=true&include_user_entities=true&include_ext_media_color=true&include_ext_media_availability=true&include_ext_sensitive_media_warning=true&include_ext_trusted_friends_metadata=true&send_error_codes=true&simple_quoted_tweet=true&q=jackson&tweet_search_mode=live&count=20&query_source=spelling_expansion_revert_click&cursor=scroll%3AthGAVUV0VFVBaAwLjh9bGUrCsWgoDUwcDM88crEnEV5_e6BhWAiXoYBFVTRVI1ARX4lQUVAAA%3D&pc=1&spelling_corrections=1&ext=mediaStats%2ChighlightedLabel%2ChasNftAvatar%2CvoiceInfo%2Cenrichments%2CsuperFollowMetadata%2CunmentionInfo failed, giving up.\n"
     ]
    },
    {
     "data": {
      "text/plain": "(None,\n None,\n None,\n None,\n None,\n None,\n None,\n None,\n None,\n None,\n None,\n None,\n None,\n None,\n None,\n None,\n None,\n None,\n None,\n None,\n None,\n None,\n None,\n None,\n None,\n None,\n None,\n None,\n None,\n None,\n None,\n None,\n None,\n None,\n None,\n None,\n None,\n None,\n None,\n None,\n None,\n None,\n None,\n None,\n None,\n None,\n None)"
     },
     "execution_count": 5,
     "metadata": {},
     "output_type": "execute_result"
    }
   ],
   "source": [
    "dask.compute(*lazy_results)"
   ],
   "metadata": {
    "collapsed": false,
    "pycharm": {
     "name": "#%%\n"
    }
   }
  }
 ],
 "metadata": {
  "kernelspec": {
   "display_name": "Python 3",
   "language": "python",
   "name": "python3"
  },
  "language_info": {
   "codemirror_mode": {
    "name": "ipython",
    "version": 2
   },
   "file_extension": ".py",
   "mimetype": "text/x-python",
   "name": "python",
   "nbconvert_exporter": "python",
   "pygments_lexer": "ipython2",
   "version": "2.7.6"
  }
 },
 "nbformat": 4,
 "nbformat_minor": 0
}