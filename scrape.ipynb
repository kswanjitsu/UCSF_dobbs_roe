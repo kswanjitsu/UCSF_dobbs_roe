{
 "cells": [
  {
   "cell_type": "code",
   "execution_count": 1,
   "outputs": [],
   "source": [
    "import os\n",
    "import dask\n"
   ],
   "metadata": {
    "collapsed": false,
    "pycharm": {
     "name": "#%%\n"
    }
   }
  },
  {
   "cell_type": "code",
   "execution_count": 2,
   "outputs": [],
   "source": [
    "# if using this be sure to edit the path in the os command\n",
    "# to suit wherever you'd like the data to be saved.\n",
    "def scrape_function(query):\n",
    "    filename = query.replace(' ', '_')\n",
    "    os.system(\"snscrape --jsonl --max-results 1000000 --since 2020-01-01 twitter-search '{}' >data/from_2020_01_01/{}.json\".format(query,filename))\n",
    "    print('Finished querying:',query)"
   ],
   "metadata": {
    "collapsed": false,
    "pycharm": {
     "name": "#%%\n"
    }
   }
  },
  {
   "cell_type": "code",
   "execution_count": 3,
   "outputs": [],
   "source": [
    "search_terms = ['dobbs',\n",
    "                'jackson',\n",
    "                'roe',\n",
    "                'wade',\n",
    "                'abortion privacy',\n",
    "                'dobbs doctor',\n",
    "                'dobbs provider',\n",
    "                'dobbs physician',\n",
    "                'dobbs clinic',\n",
    "                'dobbs visit',\n",
    "                'dobbs hospital',\n",
    "                'dobbs healthcare',\n",
    "                'jackson doctor',\n",
    "                'jackson provider',\n",
    "                'jackson physician',\n",
    "                'jackson clinic',\n",
    "                'jackson visit',\n",
    "                'jackson hospital',\n",
    "                'jackson healthcare',\n",
    "                'roe doctor',\n",
    "                'roe privacy',\n",
    "                'roe provider',\n",
    "                'roe physician',\n",
    "                'roe clinic',\n",
    "                'roe visit',\n",
    "                'roe hospital',\n",
    "                'roe healthcare',\n",
    "                'wade doctor',\n",
    "                'wade privacy',\n",
    "                'wade provider',\n",
    "                'wade physician',\n",
    "                'wade clinic',\n",
    "                'wade visit',\n",
    "                'wade hospital',\n",
    "                'wade healthcare',\n",
    "                'wade doctor',\n",
    "                'wade provider',\n",
    "                'wade physician',\n",
    "                'wade clinic',\n",
    "                'wade visit',\n",
    "                'wade hospital',\n",
    "                'wade healthcare',\n",
    "                'abortion doctor',\n",
    "                'abortion provider',\n",
    "                'abortion physician',\n",
    "                'abortion clinic',\n",
    "                'abortion visit',\n",
    "                'abortion hospital',\n",
    "                'abortion healthcare',\n",
    "                'abortion privacy',\n",
    "                'abortion PHI',\n",
    "                'abortion disclosure',\n",
    "                'abortion trust']"
   ],
   "metadata": {
    "collapsed": false,
    "pycharm": {
     "name": "#%%\n"
    }
   }
  },
  {
   "cell_type": "code",
   "execution_count": 4,
   "outputs": [],
   "source": [
    "lazy_results = []\n",
    "for parameters in search_terms:\n",
    "    lazy_result = dask.delayed(scrape_function)(parameters)\n",
    "    lazy_results.append(lazy_result)"
   ],
   "metadata": {
    "collapsed": false,
    "pycharm": {
     "name": "#%%\n"
    }
   }
  },
  {
   "cell_type": "code",
   "execution_count": 5,
   "outputs": [
    {
     "name": "stdout",
     "output_type": "stream",
     "text": [
      "Finished querying: dobbs physician\n",
      "Finished querying: dobbs provider\n",
      "Finished querying: abortion PHI\n",
      "Finished querying: dobbs clinic\n",
      "Finished querying: wade physician\n",
      "Finished querying: wade physician\n",
      "Finished querying: dobbs visit\n",
      "Finished querying: wade provider\n",
      "Finished querying: wade provider\n",
      "Finished querying: dobbs hospital\n",
      "Finished querying: roe provider\n",
      "Finished querying: roe physician\n",
      "Finished querying: dobbs healthcare\n",
      "Finished querying: abortion disclosure\n",
      "Finished querying: dobbs doctor\n",
      "Finished querying: jackson provider\n",
      "Finished querying: roe visit\n",
      "Finished querying: wade clinic\n",
      "Finished querying: wade clinic\n",
      "Finished querying: wade hospital\n",
      "Finished querying: wade hospital\n",
      "Finished querying: roe hospital\n",
      "Finished querying: jackson clinic\n",
      "Finished querying: wade visit\n",
      "Finished querying: wade visit\n",
      "Finished querying: roe clinic\n",
      "Finished querying: jackson healthcare\n",
      "Finished querying: jackson physician\n",
      "Finished querying: wade doctor\n",
      "Finished querying: wade doctor\n",
      "Finished querying: abortion physician\n",
      "Finished querying: wade healthcare\n",
      "Finished querying: wade healthcare\n",
      "Finished querying: abortion visit\n",
      "Finished querying: roe doctor\n",
      "Finished querying: wade privacy\n",
      "Finished querying: roe healthcare\n",
      "Finished querying: abortion provider\n",
      "Finished querying: jackson visit\n",
      "Finished querying: abortion trust\n",
      "Finished querying: jackson doctor\n",
      "Finished querying: jackson hospital\n",
      "Finished querying: roe privacy\n",
      "Finished querying: abortion hospital\n",
      "Finished querying: abortion privacy\n",
      "Finished querying: abortion privacy\n",
      "Finished querying: abortion clinic\n"
     ]
    },
    {
     "name": "stderr",
     "output_type": "stream",
     "text": [
      "2022-09-16 15:39:56.323  WARNING  snscrape.modules.twitter  Tweet 1569136336216461316 contains an app icon medium key '4_1570595339211513858' on app 'android_app'/'com.techunk.channelr', but the corresponding medium is missing; dropping\n",
      "2022-09-16 15:52:35.152  WARNING  snscrape.modules.twitter  Tweet 1562732737311547392 contains an app icon medium key '4_1570669662412865536' on app 'android_app'/'com.yumy.live', but the corresponding medium is missing; dropping\n",
      "2022-09-16 15:57:05.141  WARNING  snscrape.modules.twitter  Tweet 1563091396386750465 contains an app icon medium key '4_1570669662412865536' on app 'android_app'/'com.yumy.live', but the corresponding medium is missing; dropping\n"
     ]
    },
    {
     "name": "stdout",
     "output_type": "stream",
     "text": [
      "Finished querying: abortion doctor\n",
      "Finished querying: abortion healthcare\n"
     ]
    },
    {
     "name": "stderr",
     "output_type": "stream",
     "text": [
      "2022-09-16 17:11:52.878  WARNING  snscrape.modules.twitter  Tweet 1561195361812631554 contains an app icon medium key '4_1570879754340802560' on app 'android_app'/'sg.hbo.hbogo', but the corresponding medium is missing; dropping\n",
      "2022-09-16 17:11:54.474  WARNING  snscrape.modules.twitter  Tweet 1560596344212926464 contains an app icon medium key '4_1570879754340802560' on app 'android_app'/'sg.hbo.hbogo', but the corresponding medium is missing; dropping\n",
      "2022-09-16 18:19:14.801  WARNING  snscrape.modules.twitter  Tweet 1366892259514327040 contains an app icon medium key '4_1570624010026889218' on app 'iphone_app'/'1231327299', but the corresponding medium is missing; dropping\n",
      "2022-09-16 18:19:14.801  WARNING  snscrape.modules.twitter  Tweet 1366892259514327040 contains an app icon medium key '4_1570624010026889218' on app 'ipad_app'/'1231327299', but the corresponding medium is missing; dropping\n",
      "2022-09-16 19:29:13.839  WARNING  snscrape.modules.twitter  Tweet 1536998409819025408 contains an app icon medium key '4_1570603685016748033' on app 'iphone_app'/'1624693630', but the corresponding medium is missing; dropping\n",
      "2022-09-16 19:29:13.840  WARNING  snscrape.modules.twitter  Tweet 1536998409819025408 contains an app icon medium key '4_1570603685016748033' on app 'ipad_app'/'1624693630', but the corresponding medium is missing; dropping\n"
     ]
    },
    {
     "name": "stdout",
     "output_type": "stream",
     "text": [
      "Finished querying: dobbs\n",
      "Finished querying: roe\n",
      "Finished querying: wade\n",
      "Finished querying: jackson\n"
     ]
    },
    {
     "data": {
      "text/plain": "(None,\n None,\n None,\n None,\n None,\n None,\n None,\n None,\n None,\n None,\n None,\n None,\n None,\n None,\n None,\n None,\n None,\n None,\n None,\n None,\n None,\n None,\n None,\n None,\n None,\n None,\n None,\n None,\n None,\n None,\n None,\n None,\n None,\n None,\n None,\n None,\n None,\n None,\n None,\n None,\n None,\n None,\n None,\n None,\n None,\n None,\n None,\n None,\n None,\n None,\n None,\n None,\n None)"
     },
     "execution_count": 5,
     "metadata": {},
     "output_type": "execute_result"
    }
   ],
   "source": [
    "dask.compute(*lazy_results)"
   ],
   "metadata": {
    "collapsed": false,
    "pycharm": {
     "name": "#%%\n"
    }
   }
  },
  {
   "cell_type": "code",
   "execution_count": 5,
   "outputs": [],
   "source": [],
   "metadata": {
    "collapsed": false,
    "pycharm": {
     "name": "#%%\n"
    }
   }
  }
 ],
 "metadata": {
  "kernelspec": {
   "display_name": "Python 3",
   "language": "python",
   "name": "python3"
  },
  "language_info": {
   "codemirror_mode": {
    "name": "ipython",
    "version": 2
   },
   "file_extension": ".py",
   "mimetype": "text/x-python",
   "name": "python",
   "nbconvert_exporter": "python",
   "pygments_lexer": "ipython2",
   "version": "2.7.6"
  }
 },
 "nbformat": 4,
 "nbformat_minor": 0
}