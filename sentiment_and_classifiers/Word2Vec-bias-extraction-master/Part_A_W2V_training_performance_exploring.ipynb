{
 "cells": [
  {
   "cell_type": "markdown",
   "metadata": {
    "pycharm": {
     "name": "#%% md\n"
    }
   },
   "source": [
    "Notebook to accompany article by Arseniev-Koehler and Foster, \"Machine learning as a model for cultural learning: teaching an algorithm what it means to be fat.\" Code last checked on Python 3 in Windows 11/27/2019. Please cite our paper or [GitHub repo](https://github.com/arsena-k/Word2Vec-bias-extraction) if reused. "
   ]
  },
  {
   "cell_type": "markdown",
   "metadata": {
    "pycharm": {
     "name": "#%% md\n"
    }
   },
   "source": [
    "# Word2Vec Model Training, Perfomance Evaluation and Exploration"
   ]
  },
  {
   "cell_type": "markdown",
   "metadata": {
    "pycharm": {
     "name": "#%% md\n"
    }
   },
   "source": [
    "**Description:** In this Jupyter notebook, we train a Word2Vec model of text data using Gensim.  Word2Vec models words in a text dataset as numeric vectors. For a review of Word2Vec check out this [blog post](http://mccormickml.com/2016/04/19/word2vec-tutorial-the-skip-gram-model/). We also include code in this notebook to evaluate model quality on the Google Analogy Test on any trained Word2Vec model, and explore any trained Word2Vec model."
   ]
  },
  {
   "cell_type": "markdown",
   "metadata": {
    "pycharm": {
     "name": "#%% md\n"
    }
   },
   "source": [
    "**Table of Contents**\n",
    "\n",
    "* Part 1: [Train a Word2Vec model on some text data](#Train)\n",
    "* Part 2: [Explore and visualize your Word2Vec model](#Results)\n",
    "* Part 3: [Test your model's quality using the Google Analogy Test](#Accuracy)"
   ]
  },
  {
   "cell_type": "markdown",
   "metadata": {
    "pycharm": {
     "name": "#%% md\n"
    }
   },
   "source": [
    "**Tips for getting started:**\n",
    "* Suggestions along the way for dataset to use for Part 1 (training), or a pre-trained model to jump into model accuracy and exploration (Part 2) and skip training in Part 1. \n",
    "* This notebook was written in Python 3\n",
    "* Install needed packages, especially make sure you have installed Cython\n",
    "* Know where this Jupyter Notebook is saved on your computer. That folder will be called your \"working directory\", and it is where we will keep all models and data files. If you save a model, it will save there. If you download a dataset or pretrained model, you should save the file to there: when loading in files, Juputer Notebook will look in your working directory for that file by default. \n"
   ]
  },
  {
   "cell_type": "markdown",
   "metadata": {
    "pycharm": {
     "name": "#%% md\n"
    }
   },
   "source": [
    "Import external functions and packages"
   ]
  },
  {
   "cell_type": "code",
   "execution_count": 1,
   "metadata": {
    "pycharm": {
     "name": "#%%\n"
    }
   },
   "outputs": [],
   "source": [
    "import cython #ENSURE cython package is installed on computer/canopy\n",
    "from gensim.models import phrases \n",
    "from gensim import corpora, models, similarities #calc all similarities at once, from http://radimrehurek.com/gensim/tut3.html\n",
    "from sklearn.metrics.pairwise import cosine_similarity\n",
    "from scipy import spatial\n",
    "from statistics import mean\n",
    "from gensim.models import Word2Vec, KeyedVectors\n",
    "import pandas as pd\n",
    "from string import ascii_letters, digits\n",
    "from sklearn.manifold import TSNE\n",
    "import matplotlib.pyplot as plt\n",
    "%matplotlib inline\n",
    "from gensim.test.utils import datapath\n",
    "#np.set_printoptions(threshold=np.inf) #set to print full output\n",
    "\n",
    "#if you don't have any of these libraries, you will need to install them first with conda install or pip install"
   ]
  },
  {
   "cell_type": "markdown",
   "metadata": {
    "pycharm": {
     "name": "#%% md\n"
    }
   },
   "source": [
    "<a id='Train'></a> \n",
    "## Part 1: Train a Word2Vec Model, Explore Hyperparameters"
   ]
  },
  {
   "cell_type": "markdown",
   "metadata": {
    "pycharm": {
     "name": "#%% md\n"
    }
   },
   "source": [
    "#### Don't have a dataset? \n",
    "\n",
    "Gensim has a few free suggestions, such as the [Text8 Corpus](https://radimrehurek.com/gensim/models/word2vec.html#gensim.models.word2vec.Text8Corpus)\n",
    "    \n",
    "Or, download this free Kaggle dataset of 3 million news headlines from the [Examiner](https://www.kaggle.com/therohk/examine-the-examiner/version/3)  and restructure for Word2Vec using code below.\n",
    "\n",
    "Note that in the paper, we train our model around 100,000 New York Times articles on obesity and health, published between 1980-2016. We provide details to get and explore our trained model in Part 2. "
   ]
  },
  {
   "cell_type": "code",
   "execution_count": 2,
   "metadata": {
    "pycharm": {
     "name": "#%%\n"
    }
   },
   "outputs": [
    {
     "ename": "FileNotFoundError",
     "evalue": "[Errno 2] No such file or directory: 'examiner-date-tokens.csv'",
     "output_type": "error",
     "traceback": [
      "\u001B[0;31m---------------------------------------------------------------------------\u001B[0m",
      "\u001B[0;31mFileNotFoundError\u001B[0m                         Traceback (most recent call last)",
      "Cell \u001B[0;32mIn [2], line 1\u001B[0m\n\u001B[0;32m----> 1\u001B[0m dat\u001B[38;5;241m=\u001B[39m \u001B[43mpd\u001B[49m\u001B[38;5;241;43m.\u001B[39;49m\u001B[43mread_csv\u001B[49m\u001B[43m(\u001B[49m\u001B[38;5;124;43m'\u001B[39;49m\u001B[38;5;124;43mexaminer-date-tokens.csv\u001B[39;49m\u001B[38;5;124;43m'\u001B[39;49m\u001B[43m)\u001B[49m \u001B[38;5;66;03m#this file should be in your working directory - the same folder where this Jupyter Notebook is saved\u001B[39;00m\n\u001B[1;32m      2\u001B[0m dat\n",
      "File \u001B[0;32m~/anaconda3/envs/UCSF_dobbs_roe/lib/python3.8/site-packages/pandas/util/_decorators.py:311\u001B[0m, in \u001B[0;36mdeprecate_nonkeyword_arguments.<locals>.decorate.<locals>.wrapper\u001B[0;34m(*args, **kwargs)\u001B[0m\n\u001B[1;32m    305\u001B[0m \u001B[38;5;28;01mif\u001B[39;00m \u001B[38;5;28mlen\u001B[39m(args) \u001B[38;5;241m>\u001B[39m num_allow_args:\n\u001B[1;32m    306\u001B[0m     warnings\u001B[38;5;241m.\u001B[39mwarn(\n\u001B[1;32m    307\u001B[0m         msg\u001B[38;5;241m.\u001B[39mformat(arguments\u001B[38;5;241m=\u001B[39marguments),\n\u001B[1;32m    308\u001B[0m         \u001B[38;5;167;01mFutureWarning\u001B[39;00m,\n\u001B[1;32m    309\u001B[0m         stacklevel\u001B[38;5;241m=\u001B[39mstacklevel,\n\u001B[1;32m    310\u001B[0m     )\n\u001B[0;32m--> 311\u001B[0m \u001B[38;5;28;01mreturn\u001B[39;00m \u001B[43mfunc\u001B[49m\u001B[43m(\u001B[49m\u001B[38;5;241;43m*\u001B[39;49m\u001B[43margs\u001B[49m\u001B[43m,\u001B[49m\u001B[43m \u001B[49m\u001B[38;5;241;43m*\u001B[39;49m\u001B[38;5;241;43m*\u001B[39;49m\u001B[43mkwargs\u001B[49m\u001B[43m)\u001B[49m\n",
      "File \u001B[0;32m~/anaconda3/envs/UCSF_dobbs_roe/lib/python3.8/site-packages/pandas/io/parsers/readers.py:678\u001B[0m, in \u001B[0;36mread_csv\u001B[0;34m(filepath_or_buffer, sep, delimiter, header, names, index_col, usecols, squeeze, prefix, mangle_dupe_cols, dtype, engine, converters, true_values, false_values, skipinitialspace, skiprows, skipfooter, nrows, na_values, keep_default_na, na_filter, verbose, skip_blank_lines, parse_dates, infer_datetime_format, keep_date_col, date_parser, dayfirst, cache_dates, iterator, chunksize, compression, thousands, decimal, lineterminator, quotechar, quoting, doublequote, escapechar, comment, encoding, encoding_errors, dialect, error_bad_lines, warn_bad_lines, on_bad_lines, delim_whitespace, low_memory, memory_map, float_precision, storage_options)\u001B[0m\n\u001B[1;32m    663\u001B[0m kwds_defaults \u001B[38;5;241m=\u001B[39m _refine_defaults_read(\n\u001B[1;32m    664\u001B[0m     dialect,\n\u001B[1;32m    665\u001B[0m     delimiter,\n\u001B[0;32m   (...)\u001B[0m\n\u001B[1;32m    674\u001B[0m     defaults\u001B[38;5;241m=\u001B[39m{\u001B[38;5;124m\"\u001B[39m\u001B[38;5;124mdelimiter\u001B[39m\u001B[38;5;124m\"\u001B[39m: \u001B[38;5;124m\"\u001B[39m\u001B[38;5;124m,\u001B[39m\u001B[38;5;124m\"\u001B[39m},\n\u001B[1;32m    675\u001B[0m )\n\u001B[1;32m    676\u001B[0m kwds\u001B[38;5;241m.\u001B[39mupdate(kwds_defaults)\n\u001B[0;32m--> 678\u001B[0m \u001B[38;5;28;01mreturn\u001B[39;00m \u001B[43m_read\u001B[49m\u001B[43m(\u001B[49m\u001B[43mfilepath_or_buffer\u001B[49m\u001B[43m,\u001B[49m\u001B[43m \u001B[49m\u001B[43mkwds\u001B[49m\u001B[43m)\u001B[49m\n",
      "File \u001B[0;32m~/anaconda3/envs/UCSF_dobbs_roe/lib/python3.8/site-packages/pandas/io/parsers/readers.py:575\u001B[0m, in \u001B[0;36m_read\u001B[0;34m(filepath_or_buffer, kwds)\u001B[0m\n\u001B[1;32m    572\u001B[0m _validate_names(kwds\u001B[38;5;241m.\u001B[39mget(\u001B[38;5;124m\"\u001B[39m\u001B[38;5;124mnames\u001B[39m\u001B[38;5;124m\"\u001B[39m, \u001B[38;5;28;01mNone\u001B[39;00m))\n\u001B[1;32m    574\u001B[0m \u001B[38;5;66;03m# Create the parser.\u001B[39;00m\n\u001B[0;32m--> 575\u001B[0m parser \u001B[38;5;241m=\u001B[39m \u001B[43mTextFileReader\u001B[49m\u001B[43m(\u001B[49m\u001B[43mfilepath_or_buffer\u001B[49m\u001B[43m,\u001B[49m\u001B[43m \u001B[49m\u001B[38;5;241;43m*\u001B[39;49m\u001B[38;5;241;43m*\u001B[39;49m\u001B[43mkwds\u001B[49m\u001B[43m)\u001B[49m\n\u001B[1;32m    577\u001B[0m \u001B[38;5;28;01mif\u001B[39;00m chunksize \u001B[38;5;129;01mor\u001B[39;00m iterator:\n\u001B[1;32m    578\u001B[0m     \u001B[38;5;28;01mreturn\u001B[39;00m parser\n",
      "File \u001B[0;32m~/anaconda3/envs/UCSF_dobbs_roe/lib/python3.8/site-packages/pandas/io/parsers/readers.py:932\u001B[0m, in \u001B[0;36mTextFileReader.__init__\u001B[0;34m(self, f, engine, **kwds)\u001B[0m\n\u001B[1;32m    929\u001B[0m     \u001B[38;5;28mself\u001B[39m\u001B[38;5;241m.\u001B[39moptions[\u001B[38;5;124m\"\u001B[39m\u001B[38;5;124mhas_index_names\u001B[39m\u001B[38;5;124m\"\u001B[39m] \u001B[38;5;241m=\u001B[39m kwds[\u001B[38;5;124m\"\u001B[39m\u001B[38;5;124mhas_index_names\u001B[39m\u001B[38;5;124m\"\u001B[39m]\n\u001B[1;32m    931\u001B[0m \u001B[38;5;28mself\u001B[39m\u001B[38;5;241m.\u001B[39mhandles: IOHandles \u001B[38;5;241m|\u001B[39m \u001B[38;5;28;01mNone\u001B[39;00m \u001B[38;5;241m=\u001B[39m \u001B[38;5;28;01mNone\u001B[39;00m\n\u001B[0;32m--> 932\u001B[0m \u001B[38;5;28mself\u001B[39m\u001B[38;5;241m.\u001B[39m_engine \u001B[38;5;241m=\u001B[39m \u001B[38;5;28;43mself\u001B[39;49m\u001B[38;5;241;43m.\u001B[39;49m\u001B[43m_make_engine\u001B[49m\u001B[43m(\u001B[49m\u001B[43mf\u001B[49m\u001B[43m,\u001B[49m\u001B[43m \u001B[49m\u001B[38;5;28;43mself\u001B[39;49m\u001B[38;5;241;43m.\u001B[39;49m\u001B[43mengine\u001B[49m\u001B[43m)\u001B[49m\n",
      "File \u001B[0;32m~/anaconda3/envs/UCSF_dobbs_roe/lib/python3.8/site-packages/pandas/io/parsers/readers.py:1216\u001B[0m, in \u001B[0;36mTextFileReader._make_engine\u001B[0;34m(self, f, engine)\u001B[0m\n\u001B[1;32m   1212\u001B[0m     mode \u001B[38;5;241m=\u001B[39m \u001B[38;5;124m\"\u001B[39m\u001B[38;5;124mrb\u001B[39m\u001B[38;5;124m\"\u001B[39m\n\u001B[1;32m   1213\u001B[0m \u001B[38;5;66;03m# error: No overload variant of \"get_handle\" matches argument types\u001B[39;00m\n\u001B[1;32m   1214\u001B[0m \u001B[38;5;66;03m# \"Union[str, PathLike[str], ReadCsvBuffer[bytes], ReadCsvBuffer[str]]\"\u001B[39;00m\n\u001B[1;32m   1215\u001B[0m \u001B[38;5;66;03m# , \"str\", \"bool\", \"Any\", \"Any\", \"Any\", \"Any\", \"Any\"\u001B[39;00m\n\u001B[0;32m-> 1216\u001B[0m \u001B[38;5;28mself\u001B[39m\u001B[38;5;241m.\u001B[39mhandles \u001B[38;5;241m=\u001B[39m \u001B[43mget_handle\u001B[49m\u001B[43m(\u001B[49m\u001B[43m  \u001B[49m\u001B[38;5;66;43;03m# type: ignore[call-overload]\u001B[39;49;00m\n\u001B[1;32m   1217\u001B[0m \u001B[43m    \u001B[49m\u001B[43mf\u001B[49m\u001B[43m,\u001B[49m\n\u001B[1;32m   1218\u001B[0m \u001B[43m    \u001B[49m\u001B[43mmode\u001B[49m\u001B[43m,\u001B[49m\n\u001B[1;32m   1219\u001B[0m \u001B[43m    \u001B[49m\u001B[43mencoding\u001B[49m\u001B[38;5;241;43m=\u001B[39;49m\u001B[38;5;28;43mself\u001B[39;49m\u001B[38;5;241;43m.\u001B[39;49m\u001B[43moptions\u001B[49m\u001B[38;5;241;43m.\u001B[39;49m\u001B[43mget\u001B[49m\u001B[43m(\u001B[49m\u001B[38;5;124;43m\"\u001B[39;49m\u001B[38;5;124;43mencoding\u001B[39;49m\u001B[38;5;124;43m\"\u001B[39;49m\u001B[43m,\u001B[49m\u001B[43m \u001B[49m\u001B[38;5;28;43;01mNone\u001B[39;49;00m\u001B[43m)\u001B[49m\u001B[43m,\u001B[49m\n\u001B[1;32m   1220\u001B[0m \u001B[43m    \u001B[49m\u001B[43mcompression\u001B[49m\u001B[38;5;241;43m=\u001B[39;49m\u001B[38;5;28;43mself\u001B[39;49m\u001B[38;5;241;43m.\u001B[39;49m\u001B[43moptions\u001B[49m\u001B[38;5;241;43m.\u001B[39;49m\u001B[43mget\u001B[49m\u001B[43m(\u001B[49m\u001B[38;5;124;43m\"\u001B[39;49m\u001B[38;5;124;43mcompression\u001B[39;49m\u001B[38;5;124;43m\"\u001B[39;49m\u001B[43m,\u001B[49m\u001B[43m \u001B[49m\u001B[38;5;28;43;01mNone\u001B[39;49;00m\u001B[43m)\u001B[49m\u001B[43m,\u001B[49m\n\u001B[1;32m   1221\u001B[0m \u001B[43m    \u001B[49m\u001B[43mmemory_map\u001B[49m\u001B[38;5;241;43m=\u001B[39;49m\u001B[38;5;28;43mself\u001B[39;49m\u001B[38;5;241;43m.\u001B[39;49m\u001B[43moptions\u001B[49m\u001B[38;5;241;43m.\u001B[39;49m\u001B[43mget\u001B[49m\u001B[43m(\u001B[49m\u001B[38;5;124;43m\"\u001B[39;49m\u001B[38;5;124;43mmemory_map\u001B[39;49m\u001B[38;5;124;43m\"\u001B[39;49m\u001B[43m,\u001B[49m\u001B[43m \u001B[49m\u001B[38;5;28;43;01mFalse\u001B[39;49;00m\u001B[43m)\u001B[49m\u001B[43m,\u001B[49m\n\u001B[1;32m   1222\u001B[0m \u001B[43m    \u001B[49m\u001B[43mis_text\u001B[49m\u001B[38;5;241;43m=\u001B[39;49m\u001B[43mis_text\u001B[49m\u001B[43m,\u001B[49m\n\u001B[1;32m   1223\u001B[0m \u001B[43m    \u001B[49m\u001B[43merrors\u001B[49m\u001B[38;5;241;43m=\u001B[39;49m\u001B[38;5;28;43mself\u001B[39;49m\u001B[38;5;241;43m.\u001B[39;49m\u001B[43moptions\u001B[49m\u001B[38;5;241;43m.\u001B[39;49m\u001B[43mget\u001B[49m\u001B[43m(\u001B[49m\u001B[38;5;124;43m\"\u001B[39;49m\u001B[38;5;124;43mencoding_errors\u001B[39;49m\u001B[38;5;124;43m\"\u001B[39;49m\u001B[43m,\u001B[49m\u001B[43m \u001B[49m\u001B[38;5;124;43m\"\u001B[39;49m\u001B[38;5;124;43mstrict\u001B[39;49m\u001B[38;5;124;43m\"\u001B[39;49m\u001B[43m)\u001B[49m\u001B[43m,\u001B[49m\n\u001B[1;32m   1224\u001B[0m \u001B[43m    \u001B[49m\u001B[43mstorage_options\u001B[49m\u001B[38;5;241;43m=\u001B[39;49m\u001B[38;5;28;43mself\u001B[39;49m\u001B[38;5;241;43m.\u001B[39;49m\u001B[43moptions\u001B[49m\u001B[38;5;241;43m.\u001B[39;49m\u001B[43mget\u001B[49m\u001B[43m(\u001B[49m\u001B[38;5;124;43m\"\u001B[39;49m\u001B[38;5;124;43mstorage_options\u001B[39;49m\u001B[38;5;124;43m\"\u001B[39;49m\u001B[43m,\u001B[49m\u001B[43m \u001B[49m\u001B[38;5;28;43;01mNone\u001B[39;49;00m\u001B[43m)\u001B[49m\u001B[43m,\u001B[49m\n\u001B[1;32m   1225\u001B[0m \u001B[43m\u001B[49m\u001B[43m)\u001B[49m\n\u001B[1;32m   1226\u001B[0m \u001B[38;5;28;01massert\u001B[39;00m \u001B[38;5;28mself\u001B[39m\u001B[38;5;241m.\u001B[39mhandles \u001B[38;5;129;01mis\u001B[39;00m \u001B[38;5;129;01mnot\u001B[39;00m \u001B[38;5;28;01mNone\u001B[39;00m\n\u001B[1;32m   1227\u001B[0m f \u001B[38;5;241m=\u001B[39m \u001B[38;5;28mself\u001B[39m\u001B[38;5;241m.\u001B[39mhandles\u001B[38;5;241m.\u001B[39mhandle\n",
      "File \u001B[0;32m~/anaconda3/envs/UCSF_dobbs_roe/lib/python3.8/site-packages/pandas/io/common.py:786\u001B[0m, in \u001B[0;36mget_handle\u001B[0;34m(path_or_buf, mode, encoding, compression, memory_map, is_text, errors, storage_options)\u001B[0m\n\u001B[1;32m    781\u001B[0m \u001B[38;5;28;01melif\u001B[39;00m \u001B[38;5;28misinstance\u001B[39m(handle, \u001B[38;5;28mstr\u001B[39m):\n\u001B[1;32m    782\u001B[0m     \u001B[38;5;66;03m# Check whether the filename is to be opened in binary mode.\u001B[39;00m\n\u001B[1;32m    783\u001B[0m     \u001B[38;5;66;03m# Binary mode does not support 'encoding' and 'newline'.\u001B[39;00m\n\u001B[1;32m    784\u001B[0m     \u001B[38;5;28;01mif\u001B[39;00m ioargs\u001B[38;5;241m.\u001B[39mencoding \u001B[38;5;129;01mand\u001B[39;00m \u001B[38;5;124m\"\u001B[39m\u001B[38;5;124mb\u001B[39m\u001B[38;5;124m\"\u001B[39m \u001B[38;5;129;01mnot\u001B[39;00m \u001B[38;5;129;01min\u001B[39;00m ioargs\u001B[38;5;241m.\u001B[39mmode:\n\u001B[1;32m    785\u001B[0m         \u001B[38;5;66;03m# Encoding\u001B[39;00m\n\u001B[0;32m--> 786\u001B[0m         handle \u001B[38;5;241m=\u001B[39m \u001B[38;5;28;43mopen\u001B[39;49m\u001B[43m(\u001B[49m\n\u001B[1;32m    787\u001B[0m \u001B[43m            \u001B[49m\u001B[43mhandle\u001B[49m\u001B[43m,\u001B[49m\n\u001B[1;32m    788\u001B[0m \u001B[43m            \u001B[49m\u001B[43mioargs\u001B[49m\u001B[38;5;241;43m.\u001B[39;49m\u001B[43mmode\u001B[49m\u001B[43m,\u001B[49m\n\u001B[1;32m    789\u001B[0m \u001B[43m            \u001B[49m\u001B[43mencoding\u001B[49m\u001B[38;5;241;43m=\u001B[39;49m\u001B[43mioargs\u001B[49m\u001B[38;5;241;43m.\u001B[39;49m\u001B[43mencoding\u001B[49m\u001B[43m,\u001B[49m\n\u001B[1;32m    790\u001B[0m \u001B[43m            \u001B[49m\u001B[43merrors\u001B[49m\u001B[38;5;241;43m=\u001B[39;49m\u001B[43merrors\u001B[49m\u001B[43m,\u001B[49m\n\u001B[1;32m    791\u001B[0m \u001B[43m            \u001B[49m\u001B[43mnewline\u001B[49m\u001B[38;5;241;43m=\u001B[39;49m\u001B[38;5;124;43m\"\u001B[39;49m\u001B[38;5;124;43m\"\u001B[39;49m\u001B[43m,\u001B[49m\n\u001B[1;32m    792\u001B[0m \u001B[43m        \u001B[49m\u001B[43m)\u001B[49m\n\u001B[1;32m    793\u001B[0m     \u001B[38;5;28;01melse\u001B[39;00m:\n\u001B[1;32m    794\u001B[0m         \u001B[38;5;66;03m# Binary mode\u001B[39;00m\n\u001B[1;32m    795\u001B[0m         handle \u001B[38;5;241m=\u001B[39m \u001B[38;5;28mopen\u001B[39m(handle, ioargs\u001B[38;5;241m.\u001B[39mmode)\n",
      "\u001B[0;31mFileNotFoundError\u001B[0m: [Errno 2] No such file or directory: 'examiner-date-tokens.csv'"
     ]
    }
   ],
   "source": [
    "dat= pd.read_csv('examiner-date-tokens.csv') #this file should be in your working directory - the same folder where this Jupyter Notebook is saved\n",
    "dat #view what it looks like"
   ]
  },
  {
   "cell_type": "markdown",
   "metadata": {
    "pycharm": {
     "name": "#%% md\n"
    }
   },
   "source": [
    "*Preprocessing and Cleaning* \n",
    "\n",
    "From visually looking at the data, it is already pretty clean. Most importantly, letters are all lowercased, and punctuation removed. But we'll need to remove digits. And, the corpus needs to be re-structured for Word2Vec into a list of \"sentences\" or, in this case, headlines. Within each \"sentence\" we'll tokenize the string such that each word is a token.\n",
    "\n",
    "*Fake original text data, before being cleaned and pre-processed might have looked something like this:*\n",
    "\n",
    "    mydata= [These are words in the First sentence. These are words in the Second sentence! These are words in the Third sentence.] \n",
    "    \n",
    "*We want to clean it to be an object like this:*\n",
    "\n",
    "    sentences= [['these', 'are', 'words', 'in', 'the', 'first', 'sentence'], ['these', 'are', 'words', 'in', 'the' , 'second', sentence], [these, 'are', 'words', 'in', 'the' , 'third', 'sentence']]\n",
    "\n",
    "\n",
    "Pre-processing in natural language processing commonly include removing stop words (words that are frequent but considered meaningless by some researchers, such as \"the\") and stemming words (e.g., reducing all words to a single tense, like \"running and \"runs\" to \"run\"). We do not remove stop words, which we consider meaningful, and Word2Vec well equipped to extract any meaning from stop words if it is there (i.e., if a stopword predicts other words' meaning), or to place little emphasis on stop words (or noise) if they do not predict other words' meaning. We also do not stem words. On smaller datasets stemming can be a strategy to reduce the vocabulary size and increase the number of instances of each vocabulary word, but the vocabulary size of the data set we initially trained on (New York Times articles) was a large corpus, and so we can use unstemmed words."
   ]
  },
  {
   "cell_type": "code",
   "execution_count": 22,
   "metadata": {
    "pycharm": {
     "name": "#%%\n"
    }
   },
   "outputs": [
    {
     "ename": "KeyboardInterrupt",
     "evalue": "",
     "output_type": "error",
     "traceback": [
      "\u001B[1;31m---------------------------------------------------------------------------\u001B[0m",
      "\u001B[1;31mKeyboardInterrupt\u001B[0m                         Traceback (most recent call last)",
      "\u001B[1;32m<ipython-input-22-b1c83e9c70ec>\u001B[0m in \u001B[0;36m<module>\u001B[1;34m\u001B[0m\n\u001B[1;32m----> 1\u001B[1;33m \u001B[0mdat2\u001B[0m\u001B[1;33m=\u001B[0m \u001B[1;33m[\u001B[0m\u001B[0mstr\u001B[0m\u001B[1;33m(\u001B[0m\u001B[0mi\u001B[0m\u001B[1;33m[\u001B[0m\u001B[1;36m1\u001B[0m\u001B[1;33m]\u001B[0m\u001B[1;33m)\u001B[0m \u001B[1;32mfor\u001B[0m \u001B[0mi\u001B[0m \u001B[1;32min\u001B[0m \u001B[0mdat\u001B[0m\u001B[1;33m.\u001B[0m\u001B[0mvalues\u001B[0m\u001B[1;33m]\u001B[0m \u001B[1;31m#only need the text of each headline in the 1st index, not the date, in the 0th index\u001B[0m\u001B[1;33m\u001B[0m\u001B[1;33m\u001B[0m\u001B[0m\n\u001B[0m\u001B[0;32m      2\u001B[0m \u001B[0mtranslator\u001B[0m \u001B[1;33m=\u001B[0m \u001B[0mstr\u001B[0m\u001B[1;33m.\u001B[0m\u001B[0mmaketrans\u001B[0m\u001B[1;33m(\u001B[0m\u001B[0mascii_letters\u001B[0m\u001B[1;33m,\u001B[0m \u001B[0mascii_letters\u001B[0m\u001B[1;33m,\u001B[0m \u001B[0mdigits\u001B[0m\u001B[1;33m)\u001B[0m \u001B[1;31m#stripping digits here, see: https://stackoverflow.com/questions/32538305/using-translate-on-a-string-to-strip-digits-python-3\u001B[0m\u001B[1;33m\u001B[0m\u001B[1;33m\u001B[0m\u001B[0m\n\u001B[0;32m      3\u001B[0m \u001B[1;33m\u001B[0m\u001B[0m\n\u001B[0;32m      4\u001B[0m \u001B[0msentences\u001B[0m\u001B[1;33m=\u001B[0m\u001B[1;33m[\u001B[0m\u001B[1;33m]\u001B[0m\u001B[1;33m\u001B[0m\u001B[1;33m\u001B[0m\u001B[0m\n\u001B[0;32m      5\u001B[0m \u001B[1;32mfor\u001B[0m \u001B[0mi\u001B[0m \u001B[1;32min\u001B[0m \u001B[0mdat2\u001B[0m\u001B[1;33m:\u001B[0m\u001B[1;33m\u001B[0m\u001B[1;33m\u001B[0m\u001B[0m\n",
      "\u001B[1;32m~\\Anaconda3\\lib\\site-packages\\pandas\\core\\generic.py\u001B[0m in \u001B[0;36mvalues\u001B[1;34m(self)\u001B[0m\n\u001B[0;32m   4631\u001B[0m         \"\"\"\n\u001B[0;32m   4632\u001B[0m         \u001B[0mself\u001B[0m\u001B[1;33m.\u001B[0m\u001B[0m_consolidate_inplace\u001B[0m\u001B[1;33m(\u001B[0m\u001B[1;33m)\u001B[0m\u001B[1;33m\u001B[0m\u001B[1;33m\u001B[0m\u001B[0m\n\u001B[1;32m-> 4633\u001B[1;33m         \u001B[1;32mreturn\u001B[0m \u001B[0mself\u001B[0m\u001B[1;33m.\u001B[0m\u001B[0m_data\u001B[0m\u001B[1;33m.\u001B[0m\u001B[0mas_array\u001B[0m\u001B[1;33m(\u001B[0m\u001B[0mtranspose\u001B[0m\u001B[1;33m=\u001B[0m\u001B[0mself\u001B[0m\u001B[1;33m.\u001B[0m\u001B[0m_AXIS_REVERSED\u001B[0m\u001B[1;33m)\u001B[0m\u001B[1;33m\u001B[0m\u001B[1;33m\u001B[0m\u001B[0m\n\u001B[0m\u001B[0;32m   4634\u001B[0m \u001B[1;33m\u001B[0m\u001B[0m\n\u001B[0;32m   4635\u001B[0m     \u001B[1;33m@\u001B[0m\u001B[0mproperty\u001B[0m\u001B[1;33m\u001B[0m\u001B[1;33m\u001B[0m\u001B[0m\n",
      "\u001B[1;32m~\\Anaconda3\\lib\\site-packages\\pandas\\core\\internals.py\u001B[0m in \u001B[0;36mas_array\u001B[1;34m(self, transpose, items)\u001B[0m\n\u001B[0;32m   3947\u001B[0m             \u001B[0marr\u001B[0m \u001B[1;33m=\u001B[0m \u001B[0mmgr\u001B[0m\u001B[1;33m.\u001B[0m\u001B[0mblocks\u001B[0m\u001B[1;33m[\u001B[0m\u001B[1;36m0\u001B[0m\u001B[1;33m]\u001B[0m\u001B[1;33m.\u001B[0m\u001B[0mget_values\u001B[0m\u001B[1;33m(\u001B[0m\u001B[1;33m)\u001B[0m\u001B[1;33m\u001B[0m\u001B[1;33m\u001B[0m\u001B[0m\n\u001B[0;32m   3948\u001B[0m         \u001B[1;32melse\u001B[0m\u001B[1;33m:\u001B[0m\u001B[1;33m\u001B[0m\u001B[1;33m\u001B[0m\u001B[0m\n\u001B[1;32m-> 3949\u001B[1;33m             \u001B[0marr\u001B[0m \u001B[1;33m=\u001B[0m \u001B[0mmgr\u001B[0m\u001B[1;33m.\u001B[0m\u001B[0m_interleave\u001B[0m\u001B[1;33m(\u001B[0m\u001B[1;33m)\u001B[0m\u001B[1;33m\u001B[0m\u001B[1;33m\u001B[0m\u001B[0m\n\u001B[0m\u001B[0;32m   3950\u001B[0m \u001B[1;33m\u001B[0m\u001B[0m\n\u001B[0;32m   3951\u001B[0m         \u001B[1;32mreturn\u001B[0m \u001B[0marr\u001B[0m\u001B[1;33m.\u001B[0m\u001B[0mtranspose\u001B[0m\u001B[1;33m(\u001B[0m\u001B[1;33m)\u001B[0m \u001B[1;32mif\u001B[0m \u001B[0mtranspose\u001B[0m \u001B[1;32melse\u001B[0m \u001B[0marr\u001B[0m\u001B[1;33m\u001B[0m\u001B[1;33m\u001B[0m\u001B[0m\n",
      "\u001B[1;32m~\\Anaconda3\\lib\\site-packages\\pandas\\core\\internals.py\u001B[0m in \u001B[0;36m_interleave\u001B[1;34m(self)\u001B[0m\n\u001B[0;32m   3976\u001B[0m         \u001B[1;32mfor\u001B[0m \u001B[0mblk\u001B[0m \u001B[1;32min\u001B[0m \u001B[0mself\u001B[0m\u001B[1;33m.\u001B[0m\u001B[0mblocks\u001B[0m\u001B[1;33m:\u001B[0m\u001B[1;33m\u001B[0m\u001B[1;33m\u001B[0m\u001B[0m\n\u001B[0;32m   3977\u001B[0m             \u001B[0mrl\u001B[0m \u001B[1;33m=\u001B[0m \u001B[0mblk\u001B[0m\u001B[1;33m.\u001B[0m\u001B[0mmgr_locs\u001B[0m\u001B[1;33m\u001B[0m\u001B[1;33m\u001B[0m\u001B[0m\n\u001B[1;32m-> 3978\u001B[1;33m             \u001B[0mresult\u001B[0m\u001B[1;33m[\u001B[0m\u001B[0mrl\u001B[0m\u001B[1;33m.\u001B[0m\u001B[0mindexer\u001B[0m\u001B[1;33m]\u001B[0m \u001B[1;33m=\u001B[0m \u001B[0mblk\u001B[0m\u001B[1;33m.\u001B[0m\u001B[0mget_values\u001B[0m\u001B[1;33m(\u001B[0m\u001B[0mdtype\u001B[0m\u001B[1;33m)\u001B[0m\u001B[1;33m\u001B[0m\u001B[1;33m\u001B[0m\u001B[0m\n\u001B[0m\u001B[0;32m   3979\u001B[0m             \u001B[0mitemmask\u001B[0m\u001B[1;33m[\u001B[0m\u001B[0mrl\u001B[0m\u001B[1;33m.\u001B[0m\u001B[0mindexer\u001B[0m\u001B[1;33m]\u001B[0m \u001B[1;33m=\u001B[0m \u001B[1;36m1\u001B[0m\u001B[1;33m\u001B[0m\u001B[1;33m\u001B[0m\u001B[0m\n\u001B[0;32m   3980\u001B[0m \u001B[1;33m\u001B[0m\u001B[0m\n",
      "\u001B[1;31mKeyboardInterrupt\u001B[0m: "
     ]
    }
   ],
   "source": [
    "dat2= [str(i[1]) for i in dat.values] #only need the text of each headline in the 1st index, not the date, in the 0th index\n",
    "translator = str.maketrans(ascii_letters, ascii_letters, digits) #stripping digits here, see: https://stackoverflow.com/questions/32538305/using-translate-on-a-string-to-strip-digits-python-3\n",
    "\n",
    "sentences=[]\n",
    "for i in dat2:\n",
    "    headline= i.translate(translator)\n",
    "    headline= headline.strip()\n",
    "    sentences.append(headline.split())\n",
    "    \n",
    "print(sentences[1])\n",
    "print(len(sentences)) # check that it is actually around 3 million headlines here as supposed to be. its ok if not perfectly clean (i.e.  some words that are nonsensical) for these purposes"
   ]
  },
  {
   "cell_type": "code",
   "execution_count": 4,
   "metadata": {
    "pycharm": {
     "name": "#%%\n"
    }
   },
   "outputs": [],
   "source": [
    "#does sentences look ok? then delete dat and dat2 to save up some space\n",
    "del(dat2)\n",
    "del(dat)"
   ]
  },
  {
   "cell_type": "markdown",
   "metadata": {
    "pycharm": {
     "name": "#%% md\n"
    }
   },
   "source": [
    "#### Have your own dataset? Load it below. \n",
    "\n",
    "Note your sentences object should be an object of cleaned, pre-processed, tokenized text data, as described above. "
   ]
  },
  {
   "cell_type": "code",
   "execution_count": 97,
   "metadata": {
    "collapsed": true,
    "pycharm": {
     "name": "#%%\n"
    }
   },
   "outputs": [],
   "source": [
    "sentences= open('your_tokenized_data_file_here.txt').read() "
   ]
  },
  {
   "cell_type": "markdown",
   "metadata": {
    "pycharm": {
     "name": "#%% md\n"
    }
   },
   "source": [
    "#### Next, we'll train a Word2Vec model on our sentences object. Here are some hyperparameters involved:\n",
    "\n",
    "* For a review see [Rong 2014](https://arxiv.org/abs/1411.2738)  and the [Gensim documentation](https://radimrehurek.com/gensim/models/word2vec.html)\n",
    "\n",
    "Key hyperparameters for Word2Vec include the learning architecture (Skip Gram or Context Bag of Words), the dimensionality of the word-vectors we will learn, and the context window of words, \"window\". Skip-gram sets up the artificial neural network underlying Word2Vec to predict set of context words given a target word. CBOW, or Context Bag of Words, sets up the network to predict a target word given a set of context words. The number of context words used is set by the \"window\" parameter. \n",
    "\n",
    "* size = word vector dimensionality. This usually ranges between 50-500 with gains in model performance diminishing after 300 (Mikolov et al. 2013a). We've seen up to 1000, but usually see 100, 300, and sometimes 500 dimensions on larger corprora. If you have a smaller dataset, stick to smaller dimensionality, roughly 50-200. Even 100 dimensions is a lot to learn! And, if you are using the embeddings for a classifiation task down the road (like in Part C of this GitHub Repo), it might be better to keep dimensionality low. \n",
    "* min_count = minimum word count. Any word that does not occur at least this many times across all documents is ignored. Default is 5. I often set this higher to learn only high quality word-vectors. \n",
    "* workers = number of threads to run in parallel, we set to 4. This speeds up training a lot, but to use make sure Cython is installed first. \n",
    "* window = context window size. This is the numebr of words used to predict a target word (in CBOW) or to be predicted from a target word (SG). A larger window captures topical similarity, smaller captures is semantic similarity (Goldberg 2016, Levy and Goldberg 2014).\n",
    "* seed= can set a seed for reproducibility, note you also cannot use multiple workers for a fully reproducible model.\n",
    "* sg = learning architecture: skip-gram (1) or CBOW (0). Skip-gram sets up the artificial neural network underlying Word2Vec to predict set of context words given a target word. CBOW, or Context Bag of Words, sets up the network to predict a target word given a set of context words. \n",
    "* hs= training algorithm to speed up computations: hierarchical softmax (1) or negative sampling (0)\n",
    "    "
   ]
  },
  {
   "cell_type": "markdown",
   "metadata": {
    "pycharm": {
     "name": "#%% md\n"
    }
   },
   "source": [
    "#### Train Models with Combos of Hyperparameters"
   ]
  },
  {
   "cell_type": "markdown",
   "metadata": {
    "pycharm": {
     "name": "#%% md\n"
    }
   },
   "source": [
    "Try a few combos of hyperparameters and see which performs best on your dataset by evaluating their accuracy in Part 2. "
   ]
  },
  {
   "cell_type": "markdown",
   "metadata": {
    "pycharm": {
     "name": "#%% md\n"
    }
   },
   "source": [
    "Run bigram transformer, below. This allows our vocabulary to include not just single words but also bigrams (two-word phrases, like \"New York\"). This transformation needs to be done before training the Word2Vec model. \n",
    "\n",
    "Notes for your own implementation:\n",
    "* You can run one time to catch two-word phrases, like \"New_York\", or two times times, such as to catch three-word phrases (like \"New_York_City\"), or more times. For more information see the [Gensim documentaion.](https://radimrehurek.com/gensim/models/phrases.html).\n",
    "* If you only want single word-tokens, then just use \"sentences\" when you feed into Word2Vec() rather than feeding in bigram_transformer[sentences] "
   ]
  },
  {
   "cell_type": "code",
   "execution_count": 6,
   "metadata": {
    "pycharm": {
     "name": "#%%\n"
    }
   },
   "outputs": [],
   "source": [
    "#your \"sentences\" object with the cleaned text data. \n",
    "bigram_transformer = phrases.Phrases(sentences) \n",
    "bigram= phrases.Phraser(bigram_transformer)"
   ]
  },
  {
   "cell_type": "markdown",
   "metadata": {
    "pycharm": {
     "name": "#%% md\n"
    }
   },
   "source": [
    "Try training various models which vary by learning architecture (Skip Gram vs Context Bag of Words)."
   ]
  },
  {
   "cell_type": "code",
   "execution_count": 8,
   "metadata": {
    "pycharm": {
     "name": "#%%\n"
    }
   },
   "outputs": [],
   "source": [
    "currentmodel= Word2Vec(bigram[sentences], workers=4, sg=0,size=100, min_count=5,window=5, sample=1e-3)"
   ]
  },
  {
   "cell_type": "markdown",
   "metadata": {
    "pycharm": {
     "name": "#%% md\n"
    }
   },
   "source": [
    "Save your model to your working directory"
   ]
  },
  {
   "cell_type": "code",
   "execution_count": 8,
   "metadata": {
    "collapsed": true,
    "pycharm": {
     "name": "#%%\n"
    }
   },
   "outputs": [],
   "source": [
    "currentmodel.init_sims(replace=True) #Precompute L2-normalized vectors. If replace is set to TRUE, forget the original vectors and only keep the normalized ones. Saves lots of memory, but can't continue to train the model."
   ]
  },
  {
   "cell_type": "code",
   "execution_count": 9,
   "metadata": {
    "collapsed": true,
    "pycharm": {
     "name": "#%%\n"
    }
   },
   "outputs": [],
   "source": [
    "currentmodel.save(\"modelA_workshop\") #save your model for later use! change the name to something to remember the hyperparameters you trained it with"
   ]
  },
  {
   "cell_type": "markdown",
   "metadata": {
    "pycharm": {
     "name": "#%% md\n"
    }
   },
   "source": [
    "## Now load up a pretrained Word2Vec model\n",
    "\n",
    "*Option 1*: Upload your own saved, trained model you want to evaluate, such as the model you trained above and saved. \n",
    "* Your model should be in your working directory. Your working directory is the folder where this Jupyter notebook is currently saved. Currently, the code assumes that your downloads folder is your working directory."
   ]
  },
  {
   "cell_type": "code",
   "execution_count": 7,
   "metadata": {
    "pycharm": {
     "name": "#%%\n"
    }
   },
   "outputs": [],
   "source": [
    "currentmodel=  Word2Vec.load(\"modelA_workshop\") #name of YOUR model here, or file path to your model.\n",
    "\n",
    "#    An example for a PC computer if your model is in your downloads folder, and you're using a model named \"modelA\" \n",
    "#currentmodel=  Word2Vec.load(\"C:/Users/Alina Arseniev/Downloads/modelA\")\n",
    "\n",
    "#   An example for a Mac if your model is in your downloads folder, and you're using a model named \"modelA\" \n",
    "#currentmodel=  Word2Vec.load(\"~/Downloads/modelA\")"
   ]
  },
  {
   "cell_type": "markdown",
   "metadata": {
    "pycharm": {
     "name": "#%% md\n"
    }
   },
   "source": [
    "*Option 2*: Use the Word2Vec model that we used in our paper, and trained on obesity and health related New York Times articles. See our paper for training details. \n",
    "* Download our model, called 'modelA_ALLYEARS_500dim_10CW' from our [OSF](https://osf.io/jvarx/files/), and put it in your working directory. Your working directory is the folder where this Jupyter notebook is currently saved. Currently, the code assumes that your downloads folder is your working directory. "
   ]
  },
  {
   "cell_type": "code",
   "execution_count": 8,
   "metadata": {
    "pycharm": {
     "name": "#%%\n"
    }
   },
   "outputs": [],
   "source": [
    "#    An example for a PC computer if your model is in your downloads folder, and you're using a model named \"modelA_ALLYEARS_500dim_10CW\" \n",
    "#currentmodel=  Word2Vec.load(\"C:/Users/Alina Arseniev/Downloads/modelA_ALLYEARS_500dim_10CW\")\n",
    "\n",
    "#   An example for a Mac if your model is in your downloads folder, and you're using a model named \"modelA_ALLYEARS_500dim_10CW\" \n",
    "#currentmodel=  Word2Vec.load(\"~/Downloads/modelA_ALLYEARS_500dim_10CW\")\n",
    "\n",
    "#   Example based on my set-up of folders:\n",
    "currentmodel=  Word2Vec.load(\"Word2VecModels/modelA_ALLYEARS_500dim_10CW\") #load up a trained Word2Vec model. You'll need to tailor this path to your computer"
   ]
  },
  {
   "cell_type": "markdown",
   "metadata": {
    "pycharm": {
     "name": "#%% md\n"
    }
   },
   "source": [
    "*Option 3:* Use a pretrained Word2Vec Model from Google, trained on Google News\n",
    "* Download a pre-trained model on GoogleNews, find link to download on this [site](https://code.google.com/archive/p/word2vec/) or direct link to [download here](https://drive.google.com/file/d/0B7XkCwpI5KDYNlNUTTlSS21pQmM/edit?usp=sharing).\n",
    "* Extract the files, and make sure you have the one called \"GoogleNews-vectors-negative300.bin.gz\" in your working directory. Your working directory is the folder where this Jupyter notebook is currently saved. Currently, the code assumes that your downloads folder is your working directory. \n",
    "* Some of the vocabulary words used in this notebook may not exist, since the vocabulary words used in this notebook were selected based on a model trained on the New York Times, however the code will still run fine. "
   ]
  },
  {
   "cell_type": "code",
   "execution_count": 2,
   "metadata": {
    "pycharm": {
     "name": "#%%\n"
    }
   },
   "outputs": [],
   "source": [
    "#   An example for a PC computer if your model is in your downloads folder, and you're using the Google model \n",
    "#currentmodel=  KeyedVectors.load_word2vec_format('C:/Users/Alina Arseniev/Downloads/GoogleNews-vectors-negative300.bin.gz',limit=500000, binary=True)\n",
    "\n",
    "#   An example for a Mac if your model is in your downloads folder, and you're using the Google model \n",
    "#currentmodel=  KeyedVectors.load_word2vec_format(\"~/Downloads/GoogleNews-vectors-negative300.bin.gz\", limit=500000, binary=True)\n",
    "\n",
    "#   An example based on my set-up of folders:\n",
    "currentmodel= KeyedVectors.load_word2vec_format('C:/Users/Alina Arseniev/Dropbox/GSRM/LexisNexis Data/Word2VecModels/GoogleNews-vectors-negative300.bin.gz', limit=500000, binary=True)  "
   ]
  },
  {
   "cell_type": "code",
   "execution_count": 3,
   "metadata": {
    "pycharm": {
     "name": "#%%\n"
    }
   },
   "outputs": [
    {
     "data": {
      "text/plain": [
       "array([ 0.08007812,  0.10498047,  0.04980469,  0.0534668 , -0.06738281,\n",
       "       -0.12060547,  0.03515625, -0.11865234,  0.04394531,  0.03015137,\n",
       "       -0.05688477, -0.07617188,  0.01287842,  0.04980469, -0.08496094,\n",
       "       -0.06347656,  0.00628662, -0.04321289,  0.02026367,  0.01330566,\n",
       "       -0.01953125,  0.09277344, -0.171875  , -0.00131989,  0.06542969,\n",
       "        0.05834961, -0.08251953,  0.0859375 , -0.00318909,  0.05859375,\n",
       "       -0.03491211, -0.0123291 , -0.0480957 , -0.00302124,  0.05639648,\n",
       "        0.01495361, -0.07226562, -0.05224609,  0.09667969,  0.04296875,\n",
       "       -0.03540039, -0.07324219,  0.03271484, -0.06176758,  0.00787354,\n",
       "        0.0035553 , -0.00878906,  0.0390625 ,  0.03833008,  0.04443359,\n",
       "        0.06982422,  0.01263428, -0.00445557, -0.03320312, -0.04272461,\n",
       "        0.09765625, -0.02160645, -0.0378418 ,  0.01190186, -0.01391602,\n",
       "       -0.11328125,  0.09326172, -0.03930664, -0.11621094,  0.02331543,\n",
       "       -0.01599121,  0.02636719,  0.10742188, -0.00466919,  0.09619141,\n",
       "        0.0279541 , -0.05395508,  0.08544922, -0.03686523, -0.02026367,\n",
       "       -0.08544922,  0.125     ,  0.14453125,  0.0267334 ,  0.15039062,\n",
       "        0.05273438, -0.18652344,  0.08154297, -0.01062012, -0.03735352,\n",
       "       -0.07324219, -0.07519531,  0.03613281, -0.13183594,  0.00616455,\n",
       "        0.05078125,  0.04516602,  0.0100708 , -0.15039062, -0.06005859,\n",
       "        0.05761719, -0.00692749,  0.01586914, -0.0213623 ,  0.10351562,\n",
       "       -0.00029182, -0.046875  , -0.01635742, -0.07861328, -0.06933594,\n",
       "        0.01635742, -0.03149414, -0.01373291, -0.03662109, -0.08886719,\n",
       "       -0.0480957 , -0.01318359, -0.07177734,  0.00588989, -0.04614258,\n",
       "        0.03979492,  0.10058594, -0.04931641,  0.07568359,  0.03881836,\n",
       "       -0.16699219, -0.09619141, -0.10107422,  0.02905273, -0.05786133,\n",
       "       -0.01928711, -0.04296875, -0.08398438, -0.01989746,  0.05151367,\n",
       "        0.00848389, -0.03613281, -0.14941406, -0.01855469, -0.03637695,\n",
       "       -0.07666016, -0.03955078, -0.06152344, -0.02001953,  0.04150391,\n",
       "        0.03686523, -0.07226562,  0.00592041, -0.06298828,  0.00738525,\n",
       "       -0.01586914,  0.01611328, -0.01452637,  0.00772095,  0.10107422,\n",
       "       -0.00558472,  0.01428223, -0.07617188,  0.05639648, -0.01293945,\n",
       "        0.03063965, -0.02490234, -0.09863281,  0.0324707 , -0.02807617,\n",
       "       -0.08105469,  0.02062988,  0.01611328, -0.04199219, -0.03491211,\n",
       "       -0.03759766,  0.05493164,  0.01373291,  0.02685547, -0.05859375,\n",
       "       -0.07177734, -0.12011719, -0.02282715, -0.1640625 , -0.00361633,\n",
       "       -0.05981445,  0.07080078, -0.07714844,  0.05175781, -0.04296875,\n",
       "       -0.04833984,  0.0300293 , -0.06591797, -0.03173828, -0.04882812,\n",
       "       -0.03491211,  0.05883789, -0.01464844,  0.18066406,  0.05688477,\n",
       "        0.05249023,  0.05786133,  0.11669922,  0.05200195, -0.0534668 ,\n",
       "        0.01867676, -0.015625  ,  0.00576782, -0.07324219, -0.11621094,\n",
       "        0.04052734,  0.0625    , -0.04321289,  0.01055908,  0.02172852,\n",
       "        0.04248047,  0.03271484,  0.04418945,  0.05761719,  0.02612305,\n",
       "       -0.01831055, -0.02697754, -0.00674438,  0.00509644, -0.11621094,\n",
       "        0.00364685,  0.05761719, -0.05957031, -0.08837891,  0.0135498 ,\n",
       "        0.04541016, -0.04638672, -0.0177002 , -0.0625    ,  0.03442383,\n",
       "       -0.02416992,  0.03088379,  0.09570312,  0.07958984,  0.03930664,\n",
       "        0.0279541 , -0.0859375 ,  0.08105469,  0.06640625, -0.00041962,\n",
       "       -0.06933594,  0.03588867, -0.03417969,  0.04492188, -0.00772095,\n",
       "       -0.00741577, -0.04760742,  0.01397705, -0.09960938,  0.0246582 ,\n",
       "       -0.09960938,  0.11474609,  0.03173828,  0.02209473,  0.07226562,\n",
       "        0.03686523,  0.02563477,  0.01367188, -0.02734375,  0.00592041,\n",
       "       -0.06738281,  0.05053711, -0.02832031, -0.04516602, -0.01733398,\n",
       "        0.02111816,  0.03515625, -0.04296875,  0.06640625,  0.12207031,\n",
       "        0.12353516,  0.0039978 ,  0.04516602, -0.01855469,  0.04833984,\n",
       "        0.04516602,  0.08691406,  0.02941895,  0.03759766,  0.03442383,\n",
       "       -0.07373047, -0.0402832 , -0.14648438, -0.02441406, -0.01953125,\n",
       "        0.0065918 , -0.0018158 , -0.01092529,  0.09326172,  0.06542969,\n",
       "        0.01843262, -0.09326172, -0.01574707, -0.07128906, -0.08935547,\n",
       "       -0.07128906, -0.03015137, -0.01300049,  0.01635742, -0.01831055,\n",
       "        0.01483154,  0.00500488,  0.00366211,  0.04760742, -0.06884766],\n",
       "      dtype=float32)"
      ]
     },
     "execution_count": 3,
     "metadata": {},
     "output_type": "execute_result"
    }
   ],
   "source": [
    "#currentmodel['the'] #look at the raw word-vector for \"the\""
   ]
  },
  {
   "cell_type": "markdown",
   "metadata": {
    "pycharm": {
     "name": "#%% md\n"
    }
   },
   "source": [
    "<a id='Results'></a> \n",
    "## Part 2: Explore and Visualize your Word2Vec Model"
   ]
  },
  {
   "cell_type": "markdown",
   "metadata": {
    "pycharm": {
     "name": "#%% md\n"
    }
   },
   "source": [
    "If you're jumping right to here and didn't go though Part 1, look at last few lines of [Part 1](#Train) for help to upload your own trained model or a pre-trained model you want to explore. "
   ]
  },
  {
   "cell_type": "markdown",
   "metadata": {
    "pycharm": {
     "name": "#%% md\n"
    }
   },
   "source": [
    "How many vocabulary words were learned by the model? "
   ]
  },
  {
   "cell_type": "code",
   "execution_count": 25,
   "metadata": {
    "pycharm": {
     "name": "#%%\n"
    }
   },
   "outputs": [
    {
     "name": "stderr",
     "output_type": "stream",
     "text": [
      "C:\\Users\\Alina Arseniev\\Anaconda3\\lib\\site-packages\\ipykernel_launcher.py:1: DeprecationWarning: Call to deprecated `wv` (Attribute will be removed in 4.0.0, use self instead).\n",
      "  \"\"\"Entry point for launching an IPython kernel.\n"
     ]
    },
    {
     "data": {
      "text/plain": [
       "500000"
      ]
     },
     "execution_count": 25,
     "metadata": {},
     "output_type": "execute_result"
    }
   ],
   "source": [
    "len(currentmodel.wv.vocab) "
   ]
  },
  {
   "cell_type": "markdown",
   "metadata": {
    "pycharm": {
     "name": "#%% md\n"
    }
   },
   "source": [
    "Let's look at the raw word-vector for 'woman'. These numbers aren't so meaningful to human readers on their own. "
   ]
  },
  {
   "cell_type": "code",
   "execution_count": 15,
   "metadata": {
    "pycharm": {
     "name": "#%%\n"
    }
   },
   "outputs": [
    {
     "name": "stderr",
     "output_type": "stream",
     "text": [
      "C:\\Users\\Alina Arseniev\\Anaconda3\\lib\\site-packages\\ipykernel_launcher.py:1: DeprecationWarning: Call to deprecated `wv` (Attribute will be removed in 4.0.0, use self instead).\n",
      "  \"\"\"Entry point for launching an IPython kernel.\n"
     ]
    },
    {
     "data": {
      "text/plain": [
       "array([ 2.43164062e-01, -7.71484375e-02, -1.03027344e-01, -1.07421875e-01,\n",
       "        1.18164062e-01, -1.07421875e-01, -1.14257812e-01,  2.56347656e-02,\n",
       "        1.11816406e-01,  4.85839844e-02, -9.71679688e-02, -3.43750000e-01,\n",
       "       -6.29882812e-02, -1.25000000e-01, -2.70996094e-02,  9.42382812e-02,\n",
       "       -1.87500000e-01, -5.34667969e-02,  6.25000000e-02, -3.05175781e-02,\n",
       "       -2.90527344e-02, -4.80957031e-02, -5.51757812e-02, -4.08203125e-01,\n",
       "        1.01318359e-02, -2.32421875e-01, -1.70898438e-01,  2.63671875e-01,\n",
       "        3.49609375e-01, -2.11914062e-01,  1.43554688e-01, -6.22558594e-03,\n",
       "       -2.25585938e-01, -1.05468750e-01, -1.16210938e-01,  1.23046875e-01,\n",
       "        3.06640625e-01, -4.88281250e-02, -9.57031250e-02,  1.99218750e-01,\n",
       "       -1.57226562e-01, -2.80761719e-02,  1.58203125e-01, -2.42919922e-02,\n",
       "        1.29882812e-01, -8.98437500e-02, -7.61718750e-02,  3.54003906e-02,\n",
       "       -3.06396484e-02,  1.52343750e-01,  5.24902344e-02,  1.60980225e-03,\n",
       "        5.56640625e-02,  3.95507812e-02, -7.71484375e-02, -7.12890625e-02,\n",
       "       -9.22851562e-02, -7.03125000e-02,  2.03125000e-01,  1.53198242e-02,\n",
       "        2.98828125e-01,  1.75781250e-01, -4.54101562e-02,  9.52148438e-02,\n",
       "        4.12597656e-02,  7.76367188e-02,  9.47265625e-02,  1.67968750e-01,\n",
       "        2.01171875e-01, -7.22656250e-02,  1.83593750e-01,  2.15820312e-01,\n",
       "       -2.38281250e-01,  1.04980469e-01, -1.66015625e-02,  2.40234375e-01,\n",
       "        1.67236328e-02, -4.56542969e-02,  1.68945312e-01,  1.85546875e-01,\n",
       "        2.47070312e-01, -1.02050781e-01,  8.49609375e-02, -1.04003906e-01,\n",
       "       -4.74609375e-01,  2.63671875e-01, -1.57226562e-01,  8.25195312e-02,\n",
       "        2.19726562e-01, -3.03955078e-02, -2.55859375e-01, -1.97265625e-01,\n",
       "       -9.27734375e-02, -1.28173828e-02,  1.26953125e-01,  3.54003906e-02,\n",
       "        5.88378906e-02,  3.27148438e-02,  1.72851562e-01, -2.08740234e-02,\n",
       "       -1.65039062e-01, -2.81250000e-01,  8.49609375e-02, -1.69921875e-01,\n",
       "        2.31445312e-01, -1.41601562e-01,  7.91015625e-02, -1.92382812e-01,\n",
       "        7.61718750e-02, -2.23632812e-01, -1.06811523e-02,  5.66406250e-02,\n",
       "        1.56250000e-01,  7.17773438e-02, -1.56250000e-01, -1.44531250e-01,\n",
       "       -8.30078125e-02, -1.21093750e-01,  5.63964844e-02,  2.61718750e-01,\n",
       "        7.95898438e-02, -1.28784180e-02, -2.00195312e-01, -4.39453125e-02,\n",
       "       -1.01562500e-01,  1.29882812e-01,  9.42382812e-02,  1.90429688e-02,\n",
       "        1.42578125e-01,  1.59179688e-01, -7.47070312e-02, -3.24218750e-01,\n",
       "       -2.07031250e-01,  4.80957031e-02, -4.19921875e-02,  9.22851562e-02,\n",
       "       -4.39453125e-02, -2.20703125e-01, -6.25000000e-02,  8.39843750e-02,\n",
       "        2.29492188e-01, -1.11816406e-01,  9.03320312e-02,  2.08984375e-01,\n",
       "       -2.28515625e-01,  2.87109375e-01, -1.38671875e-01,  1.85546875e-01,\n",
       "       -2.10937500e-01, -2.05078125e-01,  3.00781250e-01, -1.82617188e-01,\n",
       "        1.23046875e-01, -1.61132812e-01,  9.37500000e-02,  1.25976562e-01,\n",
       "       -8.10546875e-02,  9.15527344e-05,  1.53320312e-01, -8.10546875e-02,\n",
       "       -1.93359375e-01,  7.08007812e-03,  3.84765625e-01,  1.05957031e-01,\n",
       "       -1.09375000e-01, -1.13769531e-01,  9.13085938e-02, -1.92382812e-01,\n",
       "        6.12792969e-02,  6.07299805e-03, -4.54101562e-02,  6.25000000e-02,\n",
       "       -1.30859375e-01, -1.83593750e-01, -1.76757812e-01, -1.87500000e-01,\n",
       "        2.44140625e-01,  1.89453125e-01, -1.93359375e-01, -2.29492188e-02,\n",
       "        2.53906250e-02,  3.93676758e-03, -1.38671875e-01, -2.81250000e-01,\n",
       "       -1.80664062e-01,  8.69140625e-02,  3.17382812e-02,  2.55859375e-01,\n",
       "       -2.30468750e-01, -5.24902344e-02, -2.18200684e-03,  1.60156250e-01,\n",
       "        1.57226562e-01,  2.79296875e-01,  1.37695312e-01,  1.04492188e-01,\n",
       "       -1.18652344e-01, -5.81054688e-02, -7.32421875e-02,  1.04980469e-02,\n",
       "       -1.77734375e-01, -1.07421875e-01, -1.76757812e-01, -1.23046875e-01,\n",
       "       -1.69921875e-01, -1.34765625e-01,  6.39648438e-02,  1.22558594e-01,\n",
       "        1.95312500e-01, -4.94140625e-01, -3.90625000e-02, -3.19824219e-02,\n",
       "       -1.58691406e-02, -4.10156250e-02, -1.43554688e-01, -8.59375000e-02,\n",
       "       -7.95898438e-02,  2.46093750e-01, -1.77734375e-01,  2.05078125e-01,\n",
       "        5.32226562e-02, -2.51464844e-02,  2.14843750e-01,  2.12402344e-02,\n",
       "        9.76562500e-02, -2.16796875e-01,  2.85156250e-01, -1.19140625e-01,\n",
       "       -1.66992188e-01, -3.60107422e-03,  4.61425781e-02, -1.63085938e-01,\n",
       "       -2.53906250e-01,  1.89453125e-01, -7.51953125e-02, -5.39550781e-02,\n",
       "       -1.77734375e-01, -4.32128906e-02, -7.38525391e-03,  1.57226562e-01,\n",
       "        2.53906250e-01, -1.52343750e-01, -5.27343750e-02, -1.25000000e-01,\n",
       "        1.54296875e-01,  1.11816406e-01, -1.54418945e-02,  8.97216797e-03,\n",
       "       -5.63964844e-02, -2.58789062e-02,  1.93359375e-01,  5.22460938e-02,\n",
       "       -1.56250000e-02, -5.68847656e-02,  1.17187500e-01,  6.00585938e-02,\n",
       "       -2.64892578e-02, -1.39648438e-01, -7.27539062e-02, -5.00488281e-02,\n",
       "        2.97851562e-02, -9.61914062e-02, -1.60156250e-01, -1.41601562e-01,\n",
       "        2.17773438e-01,  2.55859375e-01, -4.58984375e-02,  1.17187500e-01,\n",
       "       -2.46093750e-01, -7.27539062e-02, -8.69140625e-02,  1.57226562e-01,\n",
       "       -1.88476562e-01,  4.39453125e-02, -5.55419922e-03,  6.93359375e-02,\n",
       "        1.42578125e-01, -1.20605469e-01, -1.04003906e-01, -3.41796875e-02,\n",
       "        1.82617188e-01, -1.29882812e-01,  1.63574219e-02,  3.20312500e-01,\n",
       "       -1.12304688e-01, -1.12915039e-02, -1.38671875e-01, -2.20703125e-01,\n",
       "        7.59124756e-04,  3.94531250e-01,  1.03515625e-01, -6.64062500e-02,\n",
       "       -2.67578125e-01, -2.47070312e-01, -7.27539062e-02,  1.07910156e-01,\n",
       "        1.18652344e-01, -8.30078125e-02,  6.54296875e-02, -2.94189453e-02],\n",
       "      dtype=float32)"
      ]
     },
     "execution_count": 15,
     "metadata": {},
     "output_type": "execute_result"
    }
   ],
   "source": [
    "currentmodel.wv['woman']"
   ]
  },
  {
   "cell_type": "markdown",
   "metadata": {
    "pycharm": {
     "name": "#%% md\n"
    }
   },
   "source": [
    "What are the most similar words to \"woman\"? What are the cosine simiarlties? \n",
    "\n",
    "* Cosine Similarity ranges 0-1 here, with 0 corresponding to two words that share NOTHING in common, and 1 suggesting they are the exact same meaning. For a review on cosine similarity for word-vector models, see this [article](http://blog.christianperone.com/2013/09/machine-learning-cosine-similarity-for-vector-space-models-part-iii/). \n",
    "* Surprised that a word like \"man\" is so similar to \"woman\"? While these two are opposites in terms of gender, otherwise they correpond to largely the same meaning (adults, humans, singular, nouns, etc.), so they should be very similar and close in space. "
   ]
  },
  {
   "cell_type": "code",
   "execution_count": 28,
   "metadata": {
    "pycharm": {
     "name": "#%%\n"
    }
   },
   "outputs": [
    {
     "name": "stderr",
     "output_type": "stream",
     "text": [
      "C:\\Users\\Alina Arseniev\\Anaconda3\\lib\\site-packages\\ipykernel_launcher.py:1: DeprecationWarning: Call to deprecated `wv` (Attribute will be removed in 4.0.0, use self instead).\n",
      "  \"\"\"Entry point for launching an IPython kernel.\n"
     ]
    },
    {
     "data": {
      "text/plain": [
       "[('childhood_obesity_epidemic', 0.8161305785179138),\n",
       " ('obesity', 0.7985648512840271),\n",
       " ('childhood_obesity', 0.7650219798088074),\n",
       " ('Childhood_obesity', 0.6803277134895325),\n",
       " ('expanding_waistlines', 0.6630902886390686),\n",
       " ('Obesity', 0.6295167207717896),\n",
       " ('expanding_waistline', 0.5980016589164734),\n",
       " ('sedentary_lifestyles', 0.579047679901123),\n",
       " ('epidemic', 0.5721904039382935),\n",
       " ('unhealthy_eating_habits', 0.5621508359909058)]"
      ]
     },
     "execution_count": 28,
     "metadata": {},
     "output_type": "execute_result"
    }
   ],
   "source": [
    "currentmodel.wv.most_similar('obesity_epidemic', topn=10) "
   ]
  },
  {
   "cell_type": "markdown",
   "metadata": {
    "pycharm": {
     "name": "#%% md\n"
    }
   },
   "source": [
    "Calculate cosine similarity of two words specifically"
   ]
  },
  {
   "cell_type": "code",
   "execution_count": 17,
   "metadata": {
    "pycharm": {
     "name": "#%%\n"
    }
   },
   "outputs": [
    {
     "name": "stdout",
     "output_type": "stream",
     "text": [
      "0.7664012312889099\n"
     ]
    },
    {
     "name": "stderr",
     "output_type": "stream",
     "text": [
      "C:\\Users\\Alina Arseniev\\Anaconda3\\lib\\site-packages\\ipykernel_launcher.py:1: DeprecationWarning: Call to deprecated `wv` (Attribute will be removed in 4.0.0, use self instead).\n",
      "  \"\"\"Entry point for launching an IPython kernel.\n"
     ]
    }
   ],
   "source": [
    "print(1 - spatial.distance.cosine(currentmodel.wv['woman'], currentmodel.wv['man'])) "
   ]
  },
  {
   "cell_type": "markdown",
   "metadata": {
    "pycharm": {
     "name": "#%% md\n"
    }
   },
   "source": [
    "Which words are FARTHEST from big? Doesn't work so well, results aren't usually meaningful. This shows how distance as can break down as a meaningful measure in this model compared to our intuitions.  "
   ]
  },
  {
   "cell_type": "code",
   "execution_count": 29,
   "metadata": {
    "pycharm": {
     "name": "#%%\n"
    }
   },
   "outputs": [
    {
     "name": "stderr",
     "output_type": "stream",
     "text": [
      "C:\\Users\\Alina Arseniev\\Anaconda3\\lib\\site-packages\\ipykernel_launcher.py:1: DeprecationWarning: Call to deprecated `wv` (Attribute will be removed in 4.0.0, use self instead).\n",
      "  \"\"\"Entry point for launching an IPython kernel.\n"
     ]
    },
    {
     "data": {
      "text/plain": [
       "[('http://www.Send2Press.com', 0.2374863624572754),\n",
       " ('MarketTalk@dowjones.com', 0.2293100357055664),\n",
       " ('font_size_##.#pt', 0.22899851202964783),\n",
       " ('CASAC', 0.22478802502155304),\n",
       " ('J.Johnson_###-###', 0.2070179283618927),\n",
       " ('informations', 0.20406357944011688),\n",
       " ('GeoDecisions', 0.20055145025253296),\n",
       " ('Registered_Nursing', 0.19313399493694305),\n",
       " ('Candela_Corporation', 0.19273340702056885),\n",
       " ('SUDBURY_Ont', 0.19189047813415527)]"
      ]
     },
     "execution_count": 29,
     "metadata": {},
     "output_type": "execute_result"
    }
   ],
   "source": [
    "currentmodel.wv.most_similar(negative=['big']) "
   ]
  },
  {
   "cell_type": "markdown",
   "metadata": {
    "pycharm": {
     "name": "#%% md\n"
    }
   },
   "source": [
    "Let's try some tricks:"
   ]
  },
  {
   "cell_type": "markdown",
   "metadata": {
    "pycharm": {
     "name": "#%% md\n"
    }
   },
   "source": [
    "Let's ask our model to solve the anaology, man is to king as woman is to ? \n",
    "\n",
    "Specifically, we ask the model to find the word-vector that is most similar to the vector leftover from the vector algebra: king + woman - man\n",
    "\n",
    "Another way to think about our expected relationship is:\n",
    "* A queen is a *feminine* king. \n",
    "* If we take *woman* and subtract *man*, we get just the parts that about being feminine, since we subtracted out parts that are shared between men and woman (e.g., being a human, adult, noun, singular, etc.). \n",
    "* If we take away the masculinity from king (subtract man), and add the femininity (add woman), we get the feminine version of a king- a queen! \n",
    "\n",
    "If you're model doesn't solve this correctly, try a few other tricks to see if it gets those."
   ]
  },
  {
   "cell_type": "code",
   "execution_count": 30,
   "metadata": {
    "pycharm": {
     "name": "#%%\n"
    }
   },
   "outputs": [
    {
     "name": "stdout",
     "output_type": "stream",
     "text": [
      "[('queen', 0.7118192911148071), ('monarch', 0.6189674139022827), ('princess', 0.5902431607246399), ('crown_prince', 0.5499460697174072), ('prince', 0.5377321243286133), ('kings', 0.5236844420433044), ('queens', 0.5181134343147278), ('sultan', 0.5098593235015869), ('monarchy', 0.5087411999702454), ('royal_palace', 0.5087165832519531)]\n"
     ]
    },
    {
     "name": "stderr",
     "output_type": "stream",
     "text": [
      "C:\\Users\\Alina Arseniev\\Anaconda3\\lib\\site-packages\\ipykernel_launcher.py:1: DeprecationWarning: Call to deprecated `wv` (Attribute will be removed in 4.0.0, use self instead).\n",
      "  \"\"\"Entry point for launching an IPython kernel.\n"
     ]
    }
   ],
   "source": [
    "print(currentmodel.wv.most_similar(positive=['woman', 'king'], negative=['man'])) #man:king as woman:_?___ QUEEN! "
   ]
  },
  {
   "cell_type": "markdown",
   "metadata": {
    "pycharm": {
     "name": "#%% md\n"
    }
   },
   "source": [
    "Try another analogy: boy is to man as girl is to? "
   ]
  },
  {
   "cell_type": "code",
   "execution_count": 20,
   "metadata": {
    "pycharm": {
     "name": "#%%\n"
    }
   },
   "outputs": [
    {
     "name": "stdout",
     "output_type": "stream",
     "text": [
      "[('boy', 0.561177670955658), ('guy', 0.45864051580429077), ('boyfriend', 0.3834514319896698), ('girls', 0.3818017244338989), ('kid', 0.3705102205276489), ('little_girl', 0.36146965622901917), ('witch', 0.35749614238739014), ('teen', 0.3504459261894226), ('girlfriend', 0.35019850730895996), ('roommate', 0.34854060411453247)]\n"
     ]
    }
   ],
   "source": [
    "print(currentmodel.wv.most_similar(positive=['girl', 'man'], negative=['woman'])) #boy:man as girl:_?___ WOMAN!"
   ]
  },
  {
   "cell_type": "markdown",
   "metadata": {
    "pycharm": {
     "name": "#%% md\n"
    }
   },
   "source": [
    "A trickier trick! Can Word2Vec which word doesn't match? It should be able to tell based on which word has the lowest cosine similarity to all the other words. "
   ]
  },
  {
   "cell_type": "code",
   "execution_count": 31,
   "metadata": {
    "pycharm": {
     "name": "#%%\n"
    }
   },
   "outputs": [
    {
     "name": "stderr",
     "output_type": "stream",
     "text": [
      "C:\\Users\\Alina Arseniev\\Anaconda3\\lib\\site-packages\\ipykernel_launcher.py:1: DeprecationWarning: Call to deprecated `wv` (Attribute will be removed in 4.0.0, use self instead).\n",
      "  \"\"\"Entry point for launching an IPython kernel.\n",
      "C:\\Users\\Alina Arseniev\\Anaconda3\\lib\\site-packages\\gensim\\models\\keyedvectors.py:876: FutureWarning: arrays to stack must be passed as a \"sequence\" type such as list or tuple. Support for non-sequence iterables such as generators is deprecated as of NumPy 1.16 and will raise an error in the future.\n",
      "  vectors = vstack(self.word_vec(word, use_norm=True) for word in used_words).astype(REAL)\n"
     ]
    },
    {
     "data": {
      "text/plain": [
       "'noodle'"
      ]
     },
     "execution_count": 31,
     "metadata": {},
     "output_type": "execute_result"
    }
   ],
   "source": [
    "currentmodel.wv.doesnt_match(\"noodle chicken turkey beef\".split()) #does it get that noodle is not a meat?"
   ]
  },
  {
   "cell_type": "code",
   "execution_count": 32,
   "metadata": {
    "pycharm": {
     "name": "#%%\n"
    }
   },
   "outputs": [
    {
     "name": "stderr",
     "output_type": "stream",
     "text": [
      "C:\\Users\\Alina Arseniev\\Anaconda3\\lib\\site-packages\\ipykernel_launcher.py:1: DeprecationWarning: Call to deprecated `wv` (Attribute will be removed in 4.0.0, use self instead).\n",
      "  \"\"\"Entry point for launching an IPython kernel.\n"
     ]
    },
    {
     "data": {
      "text/plain": [
       "'toe'"
      ]
     },
     "execution_count": 32,
     "metadata": {},
     "output_type": "execute_result"
    }
   ],
   "source": [
    "currentmodel.wv.doesnt_match(\"tomato potato toe\".split()) #does it get that a toe is not a fruit or veggie?"
   ]
  },
  {
   "cell_type": "markdown",
   "metadata": {
    "pycharm": {
     "name": "#%% md\n"
    }
   },
   "source": [
    "Let's look at the most \"feminine\" and \"masculine\" words\n",
    "\n",
    "* Previously we asked Word2Vec to solve the analogy of king and queen; now we're going to isolate gendered meaning. \n",
    "* If we take woman and subtract man, we get just the parts that about being feminine, since we subtracted out parts that are shared between men and woman (e.g., being a human, adult, noun, singular, etc.). Now we're asking what are the most similar words to this leftover vector, that represents femininity?\n",
    "* We can quickly do this in the below lind which looks ath the most similar words to +woman, -man (i.e, woman-man).\n",
    "\n"
   ]
  },
  {
   "cell_type": "code",
   "execution_count": 17,
   "metadata": {
    "pycharm": {
     "name": "#%%\n"
    }
   },
   "outputs": [
    {
     "name": "stdout",
     "output_type": "stream",
     "text": [
      "[('breastfeeding', 0.42532265186309814), ('kate_middleton', 0.41971465945243835), ('nurses', 0.40929245948791504), ('nurse', 0.39992254972457886), ('women', 0.38925766944885254), ('duchess_kate', 0.3794288635253906), ('battered_women', 0.3714223802089691), ('pregnancy', 0.364116370677948), ('births', 0.3628464341163635), ('victoria_beckham', 0.3605617880821228)]\n"
     ]
    }
   ],
   "source": [
    "print(currentmodel.wv.most_similar(positive=['woman'], negative=['man'], topn=10)) #what are the most feminine words?"
   ]
  },
  {
   "cell_type": "code",
   "execution_count": 16,
   "metadata": {
    "pycharm": {
     "name": "#%%\n"
    }
   },
   "outputs": [
    {
     "name": "stdout",
     "output_type": "stream",
     "text": [
      "[('guitar_hero', 0.3973549008369446), ('old_republic', 0.3969220519065857), ('bringing_back', 0.39593788981437683), ('man_swings', 0.3835267424583435), ('misfits', 0.3822355270385742), ('gathering_tactics', 0.375559538602829), ('shinobi', 0.3720267713069916), ('evil_dead', 0.36838266253471375), ('remastered', 0.3635137677192688), ('playing', 0.36322757601737976)]\n"
     ]
    }
   ],
   "source": [
    "print(currentmodel.wv.most_similar(positive=['man'], negative=['woman'], topn=10)) #what are the most masculine words?"
   ]
  },
  {
   "cell_type": "code",
   "execution_count": 52,
   "metadata": {
    "pycharm": {
     "name": "#%%\n"
    }
   },
   "outputs": [],
   "source": []
  },
  {
   "cell_type": "code",
   "execution_count": 39,
   "metadata": {
    "pycharm": {
     "name": "#%%\n"
    }
   },
   "outputs": [],
   "source": [
    "#gendervec= "
   ]
  },
  {
   "cell_type": "code",
   "execution_count": 53,
   "metadata": {
    "pycharm": {
     "name": "#%%\n"
    }
   },
   "outputs": [],
   "source": [
    "gendervec = currentmodel['woman'] - currentmodel['man']\n",
    "myinterestingword= currentmodel['guy'].reshape(1,-1)\n",
    "howgenderedscalar = cosine_similarity(gendervec.reshape(1,-1), myinterestingword) #th\n",
    "\n",
    "#gendervec.reshape(1,-1)[0]"
   ]
  },
  {
   "cell_type": "code",
   "execution_count": 54,
   "metadata": {
    "pycharm": {
     "name": "#%%\n"
    }
   },
   "outputs": [
    {
     "data": {
      "text/plain": [
       "array([[-0.23258102]], dtype=float32)"
      ]
     },
     "execution_count": 54,
     "metadata": {},
     "output_type": "execute_result"
    }
   ],
   "source": [
    "howgenderedscalar "
   ]
  },
  {
   "cell_type": "markdown",
   "metadata": {
    "pycharm": {
     "name": "#%% md\n"
    }
   },
   "source": [
    "**Visualize Word-Vector Neighborhoods**"
   ]
  },
  {
   "cell_type": "markdown",
   "metadata": {
    "pycharm": {
     "name": "#%% md\n"
    }
   },
   "source": [
    "Try visualizing a set of words:"
   ]
  },
  {
   "cell_type": "code",
   "execution_count": 33,
   "metadata": {
    "pycharm": {
     "name": "#%%\n"
    }
   },
   "outputs": [],
   "source": [
    "#review of tsne: http://scikit-learn.org/stable/modules/generated/sklearn.manifold.TSNE.html\n",
    "#modified code from https://www.kaggle.com/jeffd23/visualizing-word-vectors-with-t-sne/code\n",
    "\n",
    "#define a function to visualize word-vectors in 2-D version of the high dimensional space\n",
    "\n",
    "def tsne_plot(words, vectors, iterations, seed, title): \n",
    "    \"Creates and TSNE model and plots it\"\n",
    "    tsne_model = TSNE(perplexity=5, n_components=2, init='pca', n_iter=iterations, random_state=seed) #you may need to tune these, epsecially the perplexity. #Use PCA to reduce dimensionality to 2-D, an \"X\" and a \"Y \n",
    "    new_values = tsne_model.fit_transform(vectors)\n",
    "\n",
    "    x = []\n",
    "    y = []\n",
    "    for value in new_values:\n",
    "        x.append(value[0])\n",
    "        y.append(value[1])\n",
    "        \n",
    "    plt.figure(figsize=(10, 10)) \n",
    "    for i in range(len(x)):\n",
    "        plt.scatter(x[i],y[i])\n",
    "        plt.annotate(words[i],\n",
    "                     xy=(x[i], y[i]),\n",
    "                     xytext=(5, 2),\n",
    "                     textcoords='offset points',\n",
    "                     ha='right',\n",
    "                     va='bottom')\n",
    "    plt.ylabel(\"Latent Dimension 1\") #Some pyplot reminders: https://matplotlib.org/users/pyplot_tutorial.html\n",
    "    plt.xlabel(\"Latent Dimension 2\")\n",
    "    plt.title(title)\n",
    "    plt.show()"
   ]
  },
  {
   "cell_type": "code",
   "execution_count": 34,
   "metadata": {
    "pycharm": {
     "name": "#%%\n"
    }
   },
   "outputs": [
    {
     "name": "stderr",
     "output_type": "stream",
     "text": [
      "C:\\Users\\Alina Arseniev\\Anaconda3\\lib\\site-packages\\ipykernel_launcher.py:10: DeprecationWarning: Call to deprecated `wv` (Attribute will be removed in 4.0.0, use self instead).\n",
      "  # Remove the CWD from sys.path while we load stuff.\n"
     ]
    }
   ],
   "source": [
    "my_word_list=[]\n",
    "my_word_vectors=[]\n",
    "label=[]\n",
    "\n",
    "words_to_explore= ['woman', 'man', 'queen', 'king', 'human', 'person', 'girl', 'child', 'boy', 'salad', 'lettuce', 'tomato', 'soup', 'turnip', 'arugula', 'pepper', 'greens', 'barley', 'bean', 'stew', 'carrot']\n",
    "\n",
    "for i in words_to_explore:   \n",
    "    try:\n",
    "        if my_word_list not in my_word_list:\n",
    "            my_word_vectors.append(currentmodel.wv[i])\n",
    "            my_word_list.append(i)\n",
    "    except KeyError: #if one of the words_to_explore is not in the model vocab, just skip it\n",
    "        continue"
   ]
  },
  {
   "cell_type": "code",
   "execution_count": 35,
   "metadata": {
    "pycharm": {
     "name": "#%%\n"
    }
   },
   "outputs": [
    {
     "data": {
      "image/png": "[encoded data removed]",
      "text/plain": [
       "<Figure size 720x720 with 1 Axes>"
      ]
     },
     "metadata": {
      "needs_background": "light"
     },
     "output_type": "display_data"
    }
   ],
   "source": [
    "tsne_plot(my_word_list, my_word_vectors, 3000, 23,  \"TSNE Visualization of Word-Vectors\") #don't use too many words, won't finish running"
   ]
  },
  {
   "cell_type": "markdown",
   "metadata": {
    "pycharm": {
     "name": "#%% md\n"
    }
   },
   "source": [
    "Try visualizing the most feminine and most masculine words:"
   ]
  },
  {
   "cell_type": "code",
   "execution_count": 21,
   "metadata": {
    "pycharm": {
     "name": "#%%\n"
    }
   },
   "outputs": [],
   "source": [
    "my_word_list=[]\n",
    "my_word_vectors=[]\n",
    "label=[]\n",
    "\n",
    "for i in currentmodel.wv.most_similar(positive=['woman'], negative=['man'], topn=30):   #30 most feminine words\n",
    "    if my_word_list not in my_word_list:\n",
    "        my_word_list.append(i[0])\n",
    "        my_word_vectors.append(currentmodel.wv[i[0]])\n",
    "        label.append('fem')\n",
    "\n",
    "for i in currentmodel.wv.most_similar(positive=['man'], negative=['woman'], topn=30):   #30 most masculine words\n",
    "    if my_word_list not in my_word_list:\n",
    "        my_word_list.append(i[0])\n",
    "        my_word_vectors.append(currentmodel.wv[i[0]])\n",
    "        label.append('masc')"
   ]
  },
  {
   "cell_type": "code",
   "execution_count": 22,
   "metadata": {
    "pycharm": {
     "name": "#%%\n"
    }
   },
   "outputs": [
    {
     "data": {
      "image/png": "[encoded data removed]",
      "text/plain": [
       "<Figure size 720x720 with 1 Axes>"
      ]
     },
     "metadata": {
      "needs_background": "light"
     },
     "output_type": "display_data"
    }
   ],
   "source": [
    "tsne_plot(my_word_list, my_word_vectors, 3000, 23,  \"TSNE Visualization of Word-Vectors\") #don't use too many words, won't finish running"
   ]
  },
  {
   "cell_type": "markdown",
   "metadata": {
    "pycharm": {
     "name": "#%% md\n"
    }
   },
   "source": [
    "If your plot doesn't look meaningful, want to see how robust the patterns are, or you want to understand TSNE better, try tuning parameters (especially the perplexity) and take a look at this great [article](https://distill.pub/2016/misread-tsne/)."
   ]
  },
  {
   "cell_type": "code",
   "execution_count": null,
   "metadata": {
    "collapsed": true,
    "pycharm": {
     "name": "#%%\n"
    }
   },
   "outputs": [],
   "source": []
  },
  {
   "cell_type": "markdown",
   "metadata": {
    "pycharm": {
     "name": "#%% md\n"
    }
   },
   "source": [
    "<a id='Accuracy'></a> \n",
    "## Part 3: Word2Vec Model Accuracy\n",
    "\n",
    "The **Google Analogy Test** is one of the most accepted strategies to evaluate how \"good\" or high quality your model is. The Google Analogy Test includes a series of analogies divided up into subsections, including world capitals, countries’ currencies, family, and a series of syntactic sections such as tense and plurality.  For example, an analogy in the semantic section of World Capitals will include: “Berlin: Germany as Paris: ?” and if the model responds correctly it will return: “France.” An analogy in the semantic section of family will include: “Mother: Father as Daughter: Son.” In the syntax section with tense, a sample analogy might be “Walk: Walked as Run: Ran.”  The Google Analogy test includes approximately 20,000 questions, and accuracy is the proportion of these questions that the model answers correctly. A \"better\" model should answer more questions correctly. As we'll see, this isn't the best measure but it is a good starting point. \n",
    "\n",
    "**Now let's look at the model accuracy on the Google Analogy Test:**"
   ]
  },
  {
   "cell_type": "code",
   "execution_count": 9,
   "metadata": {
    "pycharm": {
     "name": "#%%\n"
    }
   },
   "outputs": [
    {
     "name": "stderr",
     "output_type": "stream",
     "text": [
      "C:\\Users\\Alina Arseniev\\Anaconda3\\lib\\site-packages\\ipykernel_launcher.py:3: DeprecationWarning: Call to deprecated `accuracy` (Method will be removed in 4.0.0, use self.evaluate_word_analogies() instead).\n",
      "  This is separate from the ipykernel package so we can avoid doing imports until\n"
     ]
    },
    {
     "name": "stdout",
     "output_type": "stream",
     "text": [
      "Accuracy on capital-common-countries: 0.15\n",
      "Accuracy on capital-world: 0.10599078341013825\n",
      "Accuracy on currency: 0.0\n",
      "Accuracy on city-in-state: 0.09783513738551207\n",
      "Accuracy on family: 0.7026315789473684\n",
      "Accuracy on gram1-adjective-to-adverb: 0.04411764705882353\n",
      "Accuracy on gram2-opposite: 0.0641025641025641\n",
      "Accuracy on gram3-comparative: 0.41748768472906406\n",
      "Accuracy on gram4-superlative: 0.37384615384615383\n",
      "Accuracy on gram5-present-participle: 0.5042735042735043\n",
      "Accuracy on gram6-nationality-adjective: 0.2016509433962264\n",
      "Accuracy on gram7-past-tense: 0.20114942528735633\n",
      "Accuracy on gram8-plural: 0.35700757575757575\n",
      "Accuracy on gram9-plural-verbs: 0.44047619047619047\n",
      "Accuracy on total: 0.2745495255357714\n",
      "\u001B[1mAverage Accuracy On a Section: 0.26146922776217696\u001B[0m\n"
     ]
    }
   ],
   "source": [
    "#Make sure you have downloaded these files into your working directory from this from the Github repo https://github.com/arsena-k/Word2Vec-bias-extraction: questions_words_pasted.txt, testing.py, and question-words.txt\n",
    "\n",
    "accuracy=currentmodel.wv.accuracy('questions_words_pasted.txt') \n",
    "\n",
    "accuracy_labels= [accuracy[i]['section'] for i in range(0, len(accuracy))]\n",
    "accuracy_tracker=[]\n",
    "for i in range(0, 15):\n",
    "    sum_corr = len(accuracy[i]['correct'])\n",
    "    sum_incorr = len(accuracy[i]['incorrect'])\n",
    "    total = sum_corr + sum_incorr\n",
    "    print(\"Accuracy on \" + str(accuracy_labels[i]) + \": \"  + str(float(sum_corr)/(total)))\n",
    "    accuracy_tracker.append(float(sum_corr)/(total))\n",
    "\n",
    "print('\\033[1m' + \"Average Accuracy On a Section: \" + str(mean(accuracy_tracker[0:-1])) + '\\033[0m')"
   ]
  },
  {
   "cell_type": "markdown",
   "metadata": {
    "pycharm": {
     "name": "#%% md\n"
    }
   },
   "source": [
    "*Notes on the Google Analogy Test:*\n",
    "\n",
    "When originally published, Word2Vec averaged at around 60% across all sections of the Google Analogy Test. Models I've trained on a large news corpus tend to average between 50 and 60%. On smaller coropora, or more heterogenous corpora, accuracy rates might even hover around 0. The Google Analogy test is a useful benchmark, but may be more or less meaningful on different datasets. For example, we might not expect it provide useful infomration on a historical dataset, which contains different language and knoweldge (e.g., some currencies and capitals were likely different at the time the data was produced). For some datasets, it may be useful to select certain sections that are more meaningful than others, such as dropping the section on money for a data set on narratives. \n",
    "\n",
    "Even with low performance on this test, vectors might still contain meaningful, interesting information, but might not be robust or high quality enough for more complex tasks. You can also try tweaking the hyperparameters used to improve performance, especially the dimensionality, context window, and learning architecture. \n",
    "\n",
    "**Another Way to Evaluate Model Quality** is to compare human-rated similarities between words, with cosine-similarities based on Word2Vec. \n",
    "The below code illustrates how to compute this, using a standard dataset for human-rated similarities called \"wordsim353\"."
   ]
  },
  {
   "cell_type": "code",
   "execution_count": 13,
   "metadata": {
    "pycharm": {
     "name": "#%%\n"
    }
   },
   "outputs": [
    {
     "name": "stderr",
     "output_type": "stream",
     "text": [
      "C:\\Users\\Alina Arseniev\\Anaconda3\\lib\\site-packages\\ipykernel_launcher.py:1: DeprecationWarning: Call to deprecated `wv` (Attribute will be removed in 4.0.0, use self instead).\n",
      "  \"\"\"Entry point for launching an IPython kernel.\n"
     ]
    },
    {
     "data": {
      "text/plain": [
       "((0.6238773423318839, 1.7963265731961865e-39),\n",
       " SpearmanrResult(correlation=0.6589215888009288, pvalue=2.5346056459149263e-45),\n",
       " 0.0)"
      ]
     },
     "execution_count": 13,
     "metadata": {},
     "output_type": "execute_result"
    }
   ],
   "source": [
    "similarities = currentmodel.wv.evaluate_word_pairs(datapath('wordsim353.tsv'))\n",
    "similarities"
   ]
  },
  {
   "cell_type": "code",
   "execution_count": null,
   "metadata": {
    "pycharm": {
     "name": "#%%\n"
    }
   },
   "outputs": [],
   "source": []
  }
 ],
 "metadata": {
  "kernelspec": {
   "display_name": "Python 3",
   "language": "python",
   "name": "python3"
  },
  "language_info": {
   "codemirror_mode": {
    "name": "ipython",
    "version": 3
   },
   "file_extension": ".py",
   "mimetype": "text/x-python",
   "name": "python",
   "nbconvert_exporter": "python",
   "pygments_lexer": "ipython3",
   "version": "3.6.7"
  }
 },
 "nbformat": 4,
 "nbformat_minor": 1
}